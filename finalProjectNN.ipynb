{
 "cells": [
  {
   "cell_type": "markdown",
   "metadata": {},
   "source": [
    "# Music Generation - Siddharth Shah, Ian Pompliano\n",
    "\n",
    "Artificial Neural Networks and Deep Learning Final Project (Fall 2023)"
   ]
  },
  {
   "cell_type": "markdown",
   "metadata": {},
   "source": [
    "**Part 1: Scrape midi files.**"
   ]
  },
  {
   "cell_type": "code",
   "execution_count": 1,
   "metadata": {},
   "outputs": [],
   "source": [
    "import requests\n",
    "import os\n",
    "from bs4 import BeautifulSoup\n",
    "from music21 import *"
   ]
  },
  {
   "cell_type": "code",
   "execution_count": 2,
   "metadata": {},
   "outputs": [],
   "source": [
    "# list of composers\n",
    "composers = [\"albeniz\", \"bach\", \"balak\", \"beeth\", \"borodin\", \"brahms\", \"burgm\",\n",
    "             \"chopin\", \"clementi\", \"debuss\", \"godowsky\", \"grana\", \"grieg\", \"haydn\",\n",
    "             \"liszt\", \"mendelssohn\", \"moszkowski\", \"mozart\", \"muss\", \"rach\", \"ravel\",\n",
    "             \"schub\", \"schum\", \"sinding\", \"tschai\"]\n",
    "\n",
    "baseURL = 'http://www.piano-midi.de/'\n",
    "\n",
    "# create a directory to save downloaded MIDI files\n",
    "if not os.path.exists('midiFiles'):\n",
    "    os.makedirs('midiFiles')\n",
    "\n",
    "for composer in composers:\n",
    "    # create URL using respective composer\n",
    "    url = baseURL + composer + '.htm'\n",
    "    response = requests.get(url)\n",
    "\n",
    "    soup = BeautifulSoup(response.content, 'html.parser')\n",
    "\n",
    "    # Find MIDI links on the composer's page\n",
    "    midiLinks = soup.find_all('a', href=True)\n",
    "\n",
    "    for link in midiLinks:\n",
    "        # removes duplicate midi files (special format0)\n",
    "        if link['href'].endswith('.mid') and '_format0' not in link['href']:\n",
    "            midiURL = baseURL + link['href']\n",
    "            fileName = f\"midiFiles/{composer}_{link['href'].split('/')[-1]}\"\n",
    "\n",
    "            # download midi file and save it to directory\n",
    "            with open(fileName, 'wb') as midiFile:\n",
    "                midiResponse = requests.get(midiURL)\n",
    "                midiFile.write(midiResponse.content)"
   ]
  },
  {
   "cell_type": "markdown",
   "metadata": {},
   "source": [
    "**Part 2: Organize notes in each MIDI file. Create list of sublists containing notes for each song**"
   ]
  },
  {
   "cell_type": "code",
   "execution_count": 3,
   "metadata": {},
   "outputs": [],
   "source": [
    "# helper function to get the notes in a given MIDI file\n",
    "def getNotes(file):\n",
    "    # initalize list of notes to return\n",
    "    notes = []\n",
    "    pick = file.recurse()\n",
    "\n",
    "    for element in pick:\n",
    "        # if element is note, add to list of notes\n",
    "        if isinstance(element, note.Note):\n",
    "            notes.append(str(element.pitch))\n",
    "        # if element is chord, add highest pitch (generally belongs to melody) to list of notes.\n",
    "        elif isinstance(element, chord.Chord):\n",
    "            highestPitch = max(element.pitches)\n",
    "            notes.append(str(highestPitch))\n",
    "    return notes"
   ]
  },
  {
   "cell_type": "code",
   "execution_count": 4,
   "metadata": {},
   "outputs": [
    {
     "name": "stderr",
     "output_type": "stream",
     "text": [
      "/Users/ianpompliano/anaconda3/lib/python3.11/site-packages/music21/midi/translate.py:874: TranslateWarning: Unable to determine instrument from <music21.midi.MidiEvent SEQUENCE_TRACK_NAME, track=5, channel=None, data=b'Copyright \\xa9 2007 by Bernd Krueger'>; getting generic Instrument\n",
      "  warnings.warn(\n"
     ]
    },
    {
     "name": "stdout",
     "output_type": "stream",
     "text": [
      "Notes for the first MIDI file:\n",
      "['G5', 'B4', 'C5', 'D5', 'D5', 'D5', 'C5', 'D5', 'E-5', 'D5', 'C5', 'D5', 'C5', 'B4', 'A4', 'B4', 'C5', 'D5', 'E-5', 'D5', 'B4', 'C5', 'D5', 'D5', 'D5', 'C5', 'D5', 'E-5', 'D5', 'C5', 'D5', 'C5', 'B4', 'A4', 'B4', 'C5', 'E-5', 'D5', 'C5', 'D5', 'E-5', 'F5', 'F5', 'F5', 'E-5', 'D5', 'G5', 'F5', 'E-5', 'D5', 'C5', 'B4', 'A4', 'B4', 'C5', 'F5', 'E-5', 'D5', 'D5', 'E-5', 'F5', 'F5', 'F5', 'E-5', 'D5', 'G5', 'F5', 'E-5', 'D5', 'C5', 'B4', 'A4', 'B4', 'C5', 'E-5', 'D5', 'C5', 'B4', 'C5', 'D5', 'D5', 'D5', 'C5', 'D5', 'D5', 'E-5', 'D5', 'C5', 'D5', 'C5', 'A4', 'B4', 'A4', 'B4', 'C5', 'D5', 'E-5', 'D5', 'B4', 'C5', 'D5', 'D5', 'D5', 'C5', 'D5', 'E-5', 'D5', 'C5', 'D5', 'C5', 'B4', 'A4', 'B4', 'C5', 'E-5', 'D5', 'C5', 'D5', 'E-5', 'F5', 'F5', 'F5', 'B-4', 'F5', 'E-5', 'D5', 'B-4', 'D5', 'E-5', 'D5', 'C5', 'G5', 'F5', 'B4', 'A4', 'B4', 'C5', 'F5', 'E-5', 'D5', 'D5', 'E-5', 'F5', 'F5', 'F5', 'E-5', 'D5', 'G5', 'F5', 'E-5', 'D5', 'C5', 'B4', 'A4', 'B4', 'C5', 'E-5', 'D5', 'C5', 'E-5', 'D5', 'C5', 'C5', 'D5', 'E-5', 'C5', 'D5', 'E-5', 'F5', 'E-5', 'D5', 'C5', 'B4', 'C5', 'E-5', 'D5', 'C5', 'E-5', 'D5', 'C5', 'C#5', 'E-5', 'E-5', 'F5', 'E-5', 'C#5', 'C5', 'B-4', 'G#4', 'G#4', 'G#4', 'C5', 'E-5', 'E-5', 'E-5', 'E-5', 'F5', 'E-5', 'C#5', 'C5', 'B-4', 'C#5', 'C5', 'B-4', 'G#4', 'G#4', 'C5', 'E-5', 'E-5', 'E-5', 'E-5', 'E5', 'E-5', 'C#5', 'B4', 'B-4', 'G#4', 'G#4', 'E-5', 'C#5', 'E5', 'B4', 'B4', 'E-5', 'F#5', 'F#5', 'G5', 'G#5', 'B-5', 'C#6', 'B5', 'B-5', 'G#5', 'G5', 'G5', 'G#5', 'G5', 'F5', 'G5', 'G#5', 'G#5', 'C6', 'E-6', 'E-6', 'E-6', 'E-6', 'F6', 'G6', 'G#6', 'E-6', 'E-6', 'C#6', 'C#6', 'C6', 'B-5', 'C#6', 'C6', 'B-5', 'G#5', 'E-4', 'G#4', 'C5', 'G#4', 'E-4', 'E-5', 'C5', 'G#4', 'G#4', 'C5', 'E-5', 'E-5', 'B-4', 'G4', 'E-5', 'B-4', 'G4', 'E-5', 'C5', 'G#4', 'B-4', 'E-5', 'G5', 'G#5', 'E-5', 'G#4', 'G#5', 'D5', 'G#4', 'G#5', 'E-5', 'B-4', 'B-4', 'E-5', 'G5', 'F5', 'B-4', 'G4', 'F5', 'B4', 'G4', 'F5', 'C5', 'G#4', 'G#4', 'C5', 'E-5', 'C#4', 'G#4', 'C#5', 'F4', 'G#4', 'B-4', 'E-4', 'G#4', 'C5', 'G4', 'E-5', 'C#5', 'C5', 'E-4', 'G#4', 'C5', 'G#4', 'E-4', 'E-5', 'C5', 'G#4', 'G#4', 'C5', 'E-5', 'E-5', 'B-4', 'G4', 'E-5', 'B-4', 'G4', 'E-5', 'B4', 'G#4', 'B-4', 'E-5', 'G5', 'G#5', 'E-5', 'G#4', 'G#5', 'C#5', 'B-4', 'G#5', 'E-5', 'B4', 'B4', 'E-5', 'F#5', 'E5', 'B4', 'G4', 'E5', 'B-4', 'G4', 'E5', 'B4', 'G#4', 'G#4', 'B4', 'E-5', 'G#4', 'B4', 'C#5', 'G#4', 'B4', 'E5', 'F#4', 'B4', 'E-5', 'B-4', 'F#5', 'E5', 'E-5', 'E-4', 'F#4', 'B4', 'F#4', 'E-4', 'E-5', 'B4', 'F#4', 'B4', 'E-5', 'F#5', 'F#5', 'F#5', 'G5', 'G#5', 'B-5', 'C#6', 'B5', 'B-5', 'G#5', 'G5', 'G5', 'G#5', 'G5', 'F5', 'G5', 'G#5', 'C#5', 'C5', 'B4', 'C5', 'C5', 'F5', 'C5', 'B-4', 'A4', 'B-4', 'B-4', 'E-5', 'C#5', 'C5', 'B-4', 'G#4', 'E-5', 'C#5', 'C5', 'B-4', 'G#4', 'C5', 'B-4', 'G#4', 'C#5', 'C5', 'B4', 'C5', 'C6', 'B-5', 'A5', 'B-5', 'C5', 'B-4', 'A4', 'B-4', 'F5', 'B-5', 'G#5', 'G5', 'G#5', 'C#5', 'C5', 'B-4', 'G#4', 'E-5', 'G5', 'F5', 'E-5', 'C#5', 'C5', 'C#5', 'B-4', 'G#4', 'C4', 'E-4', 'G#4', 'G#4', 'G#4', 'G#4', 'G4', 'C4', 'E-4', 'G4', 'G4', 'G4', 'G4', 'F4', 'F#4', 'G4', 'G4', 'G4', 'G4', 'G4', 'G4', 'G4', 'G4', 'G4', 'G4', 'G4', 'G4', 'G4', 'G4', 'G4', 'G4', 'G4', 'G4', 'G4', 'G4', 'G4', 'G4', 'G4', 'G4', 'G4', 'G4', 'G4', 'G4', 'G4', 'G4', 'G4', 'G4', 'G4', 'G4', 'G4', 'F4', 'G4', 'G4', 'G4', 'G4', 'G4', 'G4', 'G4', 'G4', 'G4', 'G4', 'G4', 'G4', 'G4', 'G4', 'G4', 'G4', 'G4', 'G4', 'G4', 'G4', 'G4', 'G4', 'G4', 'G4', 'G4', 'G4', 'G4', 'G4', 'G4', 'G4', 'G4', 'G4', 'G4', 'G#4', 'G#4', 'G#4', 'G4', 'G4', 'G4', 'G4', 'G4', 'G4', 'G4', 'G4', 'G4', 'G4', 'G4', 'F4', 'G4', 'G4', 'G4', 'G4', 'G4', 'G4', 'G4', 'G4', 'G4', 'G4', 'G4', 'G4', 'G4', 'B4', 'C5', 'D5', 'D5', 'D5', 'C5', 'D5', 'E-5', 'D5', 'C5', 'D5', 'C5', 'E-4', 'B4', 'A4', 'B4', 'C5', 'D5', 'E-5', 'G#4', 'G4', 'B4', 'C5', 'D5', 'D5', 'D5', 'D5', 'C5', 'D5', 'E-5', 'D5', 'C5', 'D5', 'C5', 'B4', 'B4', 'C5', 'E-5', 'D5', 'G#4', 'C5', 'D5', 'E-5', 'F5', 'F5', 'F5', 'E-5', 'D5', 'G5', 'F5', 'E-5', 'D5', 'C5', 'G4', 'G#4', 'B4', 'G#4', 'G4', 'F4', 'E-4', 'F5', 'E-5', 'B4', 'C5', 'C4', 'G#4', 'G4', 'D5', 'E-5', 'D5', 'F5', 'F5', 'F5', 'G5', 'G#5', 'B-5', 'G#5', 'G5', 'F5', 'D5', 'B4', 'B4', 'C5', 'E-5', 'D5', 'G#4', 'C5', 'C5', 'C5', 'C5', 'C6', 'C5', 'C5', 'C5', 'C6', 'C5', 'C5', 'C5', 'C#5', 'F5', 'G#5', 'G5', 'G5', 'C5', 'C5', 'C5', 'C5', 'C6', 'C5', 'C5', 'C5', 'C6', 'C5', 'C5', 'C5', 'C#5', 'F5', 'G#5', 'G5', 'G5', 'C5', 'C5', 'C5', 'C5', 'C5', 'C5', 'C5', 'C5', 'C5', 'C5', 'C5', 'C5', 'C5', 'C5', 'C5', 'C5', 'C5', 'C5', 'C5', 'C5', 'C5', 'C5', 'C5', 'C5', 'C5', 'C5', 'C5', 'C5', 'C5', 'C5', 'C5', 'C5', 'C5', 'C5', 'C5', 'C5', 'C5', 'B-4', 'B-4', 'B-4', 'B-4', 'B-4', 'B-4', 'A4', 'A4', 'A4', 'G4', 'G4', 'G4', 'F#4', 'F#4', 'F#4', 'G4', 'G4', 'B-4', 'D5', 'D5', 'D5', 'D5', 'D4', 'G4', 'B-4', 'D4', 'G4', 'B-4', 'D4', 'F#4', 'A4', 'D4', 'G4', 'B-4', 'E-5', 'D5', 'E-4', 'G4', 'C5', 'F#4', 'C5', 'A4', 'F#4', 'D4', 'G4', 'B-4', 'D4', 'B-4', 'G4', 'D4', 'C5', 'B-4', 'C4', 'E-4', 'F#4', 'C4', 'F#4', 'E-4', 'C4', 'B-3', 'D4', 'G4', 'B-3', 'G4', 'D4', 'B-3', 'A4', 'C5', 'B-4', 'A4', 'A3', 'C4', 'G4', 'E-4', 'G4', 'A4', 'B-3', 'D4', 'G4', 'C4', 'D4', 'F#4', 'G4', 'G4', 'D4', 'G4', 'B-4', 'G3', 'B-3', 'D4', 'E-4', 'C4', 'A3', 'E-4', 'D4', 'B-3', 'D4', 'F#4', 'D5', 'D5', 'D5', 'D5', 'D4', 'G4', 'B-4', 'D4', 'G4', 'B-4', 'D4', 'F#4', 'A4', 'D4', 'G4', 'B-4', 'E-5', 'D5', 'E-4', 'G4', 'C5', 'A4', 'C5', 'A4', 'F4', 'D4', 'F4', 'B-4', 'F4', 'B-4', 'F4', 'D4', 'C5', 'B-4', 'C4', 'E-4', 'A4', 'F#4', 'A4', 'F#4', 'D4', 'B-3', 'D4', 'G4', 'B-3', 'G4', 'D4', 'B-3', 'G4', 'E-5', 'D5', 'C5', 'E-4', 'D4', 'C4', 'E-4', 'G4', 'C5', 'D4', 'F4', 'B-4', 'E-4', 'F4', 'A4', 'B-4', 'B-4', 'F4', 'B-4', 'D5', 'B-3', 'D4', 'F4', 'F#4', 'E-4', 'C4', 'F#4', 'F4', 'D4', 'F4', 'A4', 'F5', 'F5', 'F#5', 'G5', 'A5', 'C6', 'B-5', 'A5', 'G5', 'F#5', 'F#5', 'G5', 'F#5', 'E5', 'F#5', 'G5', 'G4', 'B-4', 'D5', 'G5', 'B-4', 'D5', 'G5', 'F#5', 'A5', 'G5', 'F#5', 'G5', 'G5', 'C#6', 'D6', 'D6', 'D5', 'E-5', 'E-5', 'A5', 'B-5', 'B-5', 'B-4', 'C5', 'E-5', 'D5', 'F#5', 'G5', 'D5', 'C5', 'B-4', 'D5', 'G5', 'D5', 'D5', 'A5', 'G5', 'F#5', 'G5', 'G5', 'C#6', 'D6', 'D6', 'D5', 'E-5', 'E-5', 'A5', 'B-5', 'B-5', 'C5', 'E-5', 'C5', 'F5', 'A5', 'B-5', 'B-5', 'F5', 'D5', 'B-4', 'B-4', 'D5', 'F5', 'F5', 'F#5', 'G5', 'A5', 'C6', 'B-5', 'A5', 'G5', 'F#5', 'F#5', 'G5', 'F#5', 'E5', 'F#5', 'G5', 'C5', 'B4', 'B-4', 'B4', 'B4', 'E5', 'B4', 'A4', 'G#4', 'A4', 'A4', 'D5', 'C5', 'B4', 'A4', 'G4', 'D5', 'C5', 'B4', 'A4', 'G4', 'B4', 'A4', 'G4', 'C5', 'B4', 'B-4', 'B4', 'B5', 'A5', 'G#5', 'A5', 'B4', 'A4', 'G#4', 'A4', 'E5', 'A5', 'G5', 'F#5', 'G5', 'C5', 'B4', 'A4', 'G4', 'D5', 'F#5', 'E5', 'D5', 'C5', 'B4', 'C5', 'A4', 'G4', 'G4', 'G4', 'G4', 'G4', 'G4', 'G4', 'G4', 'G4', 'G4', 'G4', 'G4', 'G4', 'G4', 'G4', 'G4', 'G4', 'G4', 'G4', 'G4', 'G4', 'G4', 'G4', 'G4', 'G4', 'G4', 'G4', 'G4', 'G4', 'G4', 'G4', 'G4', 'G4', 'G4', 'G4', 'F4', 'G4', 'G4', 'G4', 'G4', 'G4', 'G4', 'G4', 'G4', 'G4', 'G4', 'G4', 'G4', 'G4', 'G4', 'G4', 'G4', 'G4', 'G4', 'G4', 'G4', 'G4', 'G4', 'G4', 'G4', 'G4', 'G4', 'G4', 'G4', 'G4', 'G4', 'G4', 'G4', 'G4', 'G#4', 'G#4', 'G#4', 'G4', 'G4', 'G4', 'G4', 'G4', 'G4', 'G4', 'G4', 'G4', 'G4', 'G4', 'F4', 'G4', 'G4', 'G4', 'G4', 'G4', 'G4', 'G4', 'G4', 'G4', 'G4', 'G4', 'G4', 'G4', 'B4', 'C5', 'D5', 'D5', 'D5', 'C5', 'D5', 'E5', 'D5', 'C5', 'D5', 'C5', 'B4', 'A4', 'B4', 'C5', 'D5', 'E5', 'D5', 'B4', 'C5', 'D5', 'D5', 'D5', 'E5', 'F5', 'G5', 'F5', 'E5', 'F5', 'D5', 'B4', 'B4', 'B4', 'E5', 'D5', 'C5', 'B5', 'C6', 'D6', 'D6', 'D6', 'C6', 'D6', 'A5', 'D6', 'C6', 'E-6', 'D6', 'C6', 'B5', 'A5', 'B5', 'C6', 'D6', 'E-6', 'D6', 'D5', 'E-5', 'F5', 'F5', 'F5', 'B-4', 'F5', 'E-5', 'D5', 'B-4', 'D5', 'E-5', 'D5', 'C5', 'G5', 'F5', 'B4', 'A4', 'B4', 'C5', 'F5', 'E-5', 'D5', 'B4', 'C5', 'D5', 'D5', 'D5', 'E5', 'F5', 'G5', 'F5', 'E5', 'C#4', 'E4', 'F4', 'E4', 'F5', 'E-5', 'D5', 'B3', 'D4', 'E-4', 'D4', 'A4', 'E-5', 'D5', 'C5', 'G4', 'C5', 'B4', 'A4', 'B4', 'F4', 'E4', 'C5', 'E4', 'C5', 'B4', 'C5', 'D5', 'D5', 'D5', 'C5', 'B4', 'E-5', 'D5', 'C5', 'G4', 'C5', 'D5', 'E-5', 'D5', 'C5', 'G4', 'B4', 'C5', 'G5', 'G5', 'E-5', 'F5', 'G5', 'E-5', 'B4', 'C5', 'G4', 'B4', 'C5', 'G4', 'B4', 'C5', 'G3', 'B3', 'C4', 'C4', 'C4', 'G2', 'G3', 'G3', 'G3', 'G3', 'G3', 'G3', 'G3', 'G3', 'A3', 'B3', 'C4', 'F3', 'F3', 'G3', 'G3', 'G3', 'G3', 'G3', 'G3', 'B-3', 'B-3', 'B-3', 'B-3', 'B-3', 'B-3', 'B-3', 'B-3', 'C4', 'D4', 'E-4', 'F3', 'F3', 'G3', 'G3', 'G3', 'G3', 'G3', 'G3', 'F4', 'F#4', 'F#4', 'F#4', 'D4', 'C4', 'D4', 'E-4', 'D4', 'D4', 'D4', 'C4', 'B3', 'C4', 'B3', 'G3', 'G3', 'G3', 'G3', 'G3', 'G3', 'G3', 'G3', 'A3', 'B3', 'C4', 'F3', 'F3', 'G3', 'G3', 'G3', 'G3', 'G2', 'G2', 'G2', 'F4', 'F4', 'F4', 'E-4', 'F4', 'E-4', 'F3', 'G3', 'G3', 'G3', 'G3', 'B3', 'C4', 'B3', 'B-2', 'B-2', 'B-2', 'B-2', 'B-2', 'B-2', 'B-2', 'B-2', 'C3', 'D3', 'E-3', 'F3', 'F3', 'G3', 'G3', 'G3', 'G3', 'G2', 'G2', 'G2', 'G#3', 'E-3', 'C4', 'F3', 'G3', 'G#3', 'G3', 'G2', 'C3', 'G#3', 'E-3', 'C#3', 'E-3', 'F3', 'E-3', 'E-3', 'G#2', 'C3', 'E-3', 'C3', 'E-3', 'G#3', 'B2', 'D3', 'G#3', 'C3', 'E-3', 'G#3', 'G#2', 'C3', 'G#3', 'C3', 'E-3', 'G#3', 'B2', 'D3', 'G#3', 'C3', 'E-3', 'G#3', 'C#3', 'F3', 'G#3', 'C#3', 'G3', 'B-3', 'C3', 'G#3', 'C4', 'C3', 'E-3', 'G#3', 'B-2', 'E-3', 'G#3', 'B-2', 'E-3', 'G3', 'G#2', 'E-3', 'B-3', 'G#2', 'E-3', 'G#3', 'C#3', 'G#3', 'B-3', 'F3', 'G#3', 'C#4', 'E-3', 'G#3', 'C4', 'E-3', 'G3', 'B-3', 'G#2', 'C3', 'G#3', 'C3', 'E-3', 'G#3', 'B2', 'D3', 'G#3', 'C3', 'E-3', 'G#3', 'G#2', 'C3', 'G#3', 'C3', 'E-3', 'G#3', 'B2', 'D3', 'G#3', 'C3', 'E-3', 'G#3', 'C#3', 'E3', 'G#3', 'C#3', 'E3', 'B-3', 'B2', 'F#3', 'B3', 'B2', 'F#3', 'B3', 'E3', 'G#3', 'C#4', 'E3', 'F#3', 'B-3', 'E-3', 'F#3', 'B3', 'E-3', 'G3', 'C#4', 'E3', 'G#3', 'B3', 'G#3', 'B3', 'E4', 'F#3', 'B3', 'E-4', 'F#3', 'B-3', 'C#4', 'B2', 'E-3', 'B3', 'E-3', 'F#3', 'B3', 'D3', 'F3', 'B3', 'E-3', 'F#3', 'B3', 'B2', 'E-3', 'F#3', 'B2', 'E-3', 'F#3', 'B-2', 'C#3', 'E-3', 'G#2', 'C#3', 'E-3', 'G2', 'C#3', 'E-3', 'G2', 'B-2', 'E-3', 'G#2', 'B2', 'E-3', 'C#3', 'E3', 'B-3', 'E-3', 'B-3', 'C#4', 'E-3', 'B-3', 'C#4', 'E-3', 'B-3', 'C#4', 'E-3', 'B-3', 'C#4', 'G#3', 'C4', 'E-4', 'C4', 'E-4', 'G#4', 'B3', 'D4', 'G#4', 'C4', 'E-4', 'G#4', 'G#3', 'C4', 'G#4', 'C4', 'E-4', 'G#4', 'B3', 'D4', 'G#4', 'C4', 'E-4', 'G#4', 'C#4', 'F4', 'G#4', 'C#4', 'E-4', 'B-4', 'C4', 'E-4', 'G#4', 'C4', 'E-4', 'G#4', 'B-3', 'E-4', 'B-4', 'B-3', 'E-4', 'G4', 'G#3', 'E-4', 'G#4', 'G#3', 'E-4', 'G#4', 'C#4', 'G#4', 'B-4', 'F4', 'G#4', 'C#5', 'E-4', 'G#4', 'C5', 'E-4', 'G4', 'B-4', 'G#4', 'G#3', 'C4', 'E-4', 'E-4', 'E-4', 'E-4', 'F4', 'E-4', 'C#4', 'C4', 'B-3', 'C#4', 'C4', 'B-3', 'G#3', 'G#3', 'C4', 'E-4', 'E-4', 'E-4', 'E-4', 'E4', 'E-4', 'C#4', 'B3', 'B-3', 'B2', 'G#3', 'E4', 'E-4', 'C#4', 'B3', 'B2', 'E-3', 'F#3', 'B2', 'E-3', 'F#3', 'B-2', 'C#3', 'E-3', 'G#2', 'C#3', 'E-3', 'G2', 'C#3', 'E-3', 'G2', 'B-2', 'E-3', 'G#2', 'B2', 'E-3', 'C#3', 'E3', 'B-3', 'E-3', 'B-3', 'C#4', 'E-3', 'B-3', 'C#4', 'E-3', 'B-3', 'C#4', 'E-3', 'B-3', 'C#4', 'G#2', 'C4', 'C4', 'C4', 'C4', 'C4', 'C4', 'C4', 'C4', 'C4', 'C4', 'C4', 'C#2', 'C4', 'C4', 'A3', 'A3', 'A3', 'B-3', 'B-3', 'B-3', 'B-3', 'B-3', 'B-3', 'C2', 'B-3', 'B-3', 'G3', 'G3', 'G3', 'G#3', 'G#3', 'G#3', 'G#3', 'G#3', 'G#3', 'C#2', 'F3', 'F3', 'F3', 'F3', 'F3', 'E-2', 'G#3', 'G#3', 'E-2', 'G3', 'G3', 'G#2', 'C4', 'C4', 'C4', 'C4', 'C4', 'C4', 'C4', 'C4', 'C4', 'C4', 'C4', 'C#2', 'C4', 'C4', 'C4', 'C4', 'C4', 'B-3', 'B-3', 'B-3', 'B-3', 'B-3', 'B-3', 'C2', 'B-3', 'B-3', 'B-3', 'B-3', 'B-3', 'G#3', 'G#3', 'G#3', 'G#3', 'G#3', 'G#3', 'C#2', 'G#3', 'G#3', 'A3', 'A3', 'B-3', 'E-2', 'G#3', 'G#3', 'E-2', 'B-3', 'B-3', 'G#1', 'E-3', 'E-3', 'E-3', 'G#2', 'E-3', 'E-3', 'E-3', 'E-3', 'E-3', 'E-3', 'E-3', 'E-3', 'G#2', 'E-3', 'E-3', 'E-3', 'E-3', 'E-3', 'E-3', 'E-3', 'E-3', 'E-3', 'E-3', 'E-3', 'G#1', 'G1', 'E-3', 'E-3', 'E-3', 'E-3', 'E-3', 'E-3', 'G2', 'E-3', 'E-3', 'E-3', 'E-3', 'E-3', 'G1', 'E-3', 'E-3', 'E-3', 'E-3', 'E-3', 'E-3', 'G2', 'E-3', 'E-3', 'E-3', 'E-3', 'E-3', 'F1', 'F#1', 'F2', 'E-3', 'E-3', 'E-3', 'E-3', 'E-3', 'F#2', 'E-3', 'E-3', 'E-3', 'E-3', 'E-3', 'D3', 'B2', 'C3', 'D3', 'D3', 'D3', 'C3', 'D3', 'E-3', 'D3', 'C3', 'B-2', 'G#2', 'G2', 'G2', 'G2', 'G2', 'C3', 'B2', 'C3', 'D3', 'D3', 'D3', 'C3', 'D3', 'E-3', 'D3', 'C3', 'B-2', 'G#2', 'G2', 'G2', 'G2', 'G2', 'C3', 'G3', 'G3', 'G3', 'G3', 'G3', 'G3', 'G3', 'G3', 'G3', 'G3', 'G3', 'G3', 'G3', 'G3', 'G3', 'G3', 'G3', 'G3', 'G3', 'G3', 'G3', 'G3', 'G3', 'G3', 'G3', 'G3', 'G3', 'G3', 'G3', 'G3', 'G3', 'G3', 'G3', 'G3', 'G3', 'G3', 'G3', 'G3', 'G3', 'G3', 'G3', 'G3', 'G3', 'G3', 'G3', 'G3', 'G3', 'G3', 'G3', 'G3', 'G3', 'G3', 'G3', 'G3', 'G3', 'G3', 'G3', 'G3', 'G3', 'G3', 'G3', 'G3', 'G3', 'G3', 'G3', 'G3', 'G3', 'G3', 'G3', 'G3', 'G3', 'G3', 'G3', 'G3', 'G3', 'G3', 'G3', 'G3', 'G3', 'G3', 'F#3', 'F#3', 'F#3', 'F3', 'F3', 'F3', 'G2', 'G2', 'G2', 'G2', 'G2', 'G2', 'G2', 'G2', 'G2', 'C3', 'G3', 'G3', 'G3', 'G3', 'G3', 'G3', 'G3', 'G3', 'G3', 'G3', 'G3', 'G#3', 'G#3', 'G#3', 'A3', 'A3', 'A3', 'B-3', 'B-3', 'B-3', 'B-3', 'B-3', 'B-3', 'B-3', 'B-3', 'B-3', 'B3', 'B3', 'B3', 'C4', 'G3', 'G3', 'G3', 'G3', 'G3', 'G3', 'G3', 'G3', 'G3', 'G3', 'G3', 'G3', 'G3', 'G3', 'G3', 'G3', 'G3', 'G3', 'G3', 'G3', 'G3', 'G3', 'G3', 'G3', 'G#3', 'A3', 'B-3', 'B-3', 'B-3', 'B-3', 'B-3', 'B-3', 'B-3', 'B-3', 'B-3', 'B-3', 'B-3', 'B-3', 'B-3', 'B-3', 'B-3', 'B-3', 'B-3', 'B-3', 'G#3', 'G#3', 'G#3', 'G3', 'G3', 'G3', 'F3', 'F3', 'F3', 'F3', 'F3', 'F3', 'G2', 'G2', 'G2', 'G2', 'G2', 'G2', 'G2', 'G2', 'G2', 'C3', 'D3', 'C3', 'B-2', 'C3', 'B-2', 'C3', 'C3', 'C3', 'C3', 'C3', 'C3', 'C3', 'C3', 'C3', 'C3', 'C3', 'C3', 'C3', 'C3', 'C3', 'C3', 'C3', 'C3', 'C3', 'C3', 'C3', 'C3', 'C3', 'C3', 'C3', 'C3', 'C3', 'C3', 'C3', 'C3', 'G#2', 'G#2', 'G#2', 'G#2', 'G#2', 'G#2', 'G2', 'G2', 'G2', 'G2', 'G2', 'G2', 'C3', 'E-3', 'D3', 'C3', 'D3', 'C3', 'B2', 'C3', 'B2', 'B-2', 'C3', 'B-2', 'C3', 'C3', 'C3', 'C3', 'C3', 'C3', 'C3', 'C3', 'C3', 'C3', 'C3', 'C3', 'C3', 'C3', 'C3', 'C3', 'C3', 'C3', 'C3', 'C3', 'C3', 'C3', 'C3', 'C3', 'G#2', 'G#2', 'G#2', 'G#2', 'G#2', 'G#2', 'G2', 'G2', 'G2', 'G2', 'G2', 'G2', 'C3', 'C3', 'C3', 'C3', 'C3', 'C3', 'C3', 'C3', 'C3', 'C3', 'C3', 'C3', 'C3', 'C3', 'C3', 'B-2', 'B-2', 'B-2', 'C3', 'C3', 'C3', 'C3', 'C3', 'C3', 'C3', 'C3', 'C3', 'C3', 'C3', 'C3', 'C3', 'C3', 'C3', 'C3', 'C3', 'C3', 'C3', 'D3', 'D3', 'D3', 'D3', 'D3', 'D3', 'D3', 'D3', 'D3', 'D3', 'D3', 'E-3', 'E-3', 'E-3', 'E-3', 'E-3', 'E-3', 'D3', 'D3', 'D3', 'D3', 'D3', 'D3', 'D3', 'D3', 'D3', 'D3', 'D3', 'D3', 'D3', 'D3', 'D3', 'D3', 'D3', 'D3', 'G2', 'G2', 'G2', 'D2', 'G2', 'C2', 'C2', 'G2', 'G2', 'G#2', 'A2', 'B-2', 'D3', 'E-3', 'C3', 'D3', 'D2', 'G2', 'A2', 'C3', 'D3', 'G3', 'D3', 'B-2', 'G2', 'G2', 'D2', 'G2', 'C2', 'F2', 'B-1', 'B-2', 'A2', 'D2', 'G2', 'G1', 'E-2', 'C2', 'F2', 'F1', 'B-2', 'C3', 'E-3', 'D3', 'B-3', 'F3', 'D3', 'B-2', 'D3', 'F3', 'D3', 'B-2', 'D3', 'F3', 'D3', 'A2', 'C3', 'D3', 'C3', 'G2', 'C3', 'D3', 'C3', 'F#2', 'C3', 'D3', 'C3', 'F#2', 'A2', 'D3', 'A2', 'G2', 'B-2', 'D3', 'B-2', 'C3', 'E-3', 'A3', 'E-3', 'D3', 'A3', 'C4', 'A3', 'D3', 'A3', 'C4', 'A3', 'D3', 'A3', 'C4', 'A3', 'D3', 'A3', 'C4', 'A3', 'G3', 'B-3', 'G3', 'D3', 'B-2', 'G3', 'D3', 'B-2', 'G2', 'G3', 'B-3', 'D4', 'D4', 'D4', 'D4', 'E-4', 'D4', 'C4', 'B-3', 'A3', 'C4', 'B-3', 'A3', 'G3', 'G3', 'B-3', 'D4', 'D4', 'D4', 'D4', 'E-4', 'D4', 'C4', 'B-3', 'A3', 'G3', 'E-4', 'D4', 'C4', 'B-3', 'B-2', 'D3', 'F3', 'D3', 'B-2', 'D3', 'F3', 'D3', 'A2', 'C3', 'D3', 'C3', 'G2', 'C3', 'D3', 'C3', 'F#2', 'C3', 'D3', 'C3', 'F#2', 'A2', 'D3', 'A2', 'G2', 'B-2', 'D3', 'B-2', 'C3', 'E-3', 'A3', 'E-3', 'D3', 'A3', 'C4', 'A3', 'D3', 'A3', 'C4', 'A3', 'D3', 'A3', 'C4', 'A3', 'D3', 'A3', 'C4', 'A3', 'G2', 'B3', 'B3', 'B3', 'B3', 'B3', 'B3', 'B3', 'B3', 'B3', 'B3', 'B3', 'C2', 'B3', 'B3', 'G#3', 'G#3', 'G#3', 'A3', 'A3', 'A3', 'A3', 'A3', 'A3', 'B1', 'A3', 'A3', 'F#3', 'F#3', 'F#3', 'G3', 'G3', 'G3', 'G3', 'G3', 'G3', 'C2', 'E3', 'E3', 'E3', 'E3', 'E3', 'D2', 'G3', 'G3', 'D2', 'F#3', 'F#3', 'G2', 'B3', 'B3', 'B3', 'B3', 'B3', 'B3', 'B3', 'B3', 'B3', 'B3', 'B3', 'C2', 'B3', 'B3', 'B3', 'B3', 'B3', 'A3', 'A3', 'A3', 'A3', 'A3', 'A3', 'B1', 'A3', 'A3', 'A3', 'A3', 'A3', 'G3', 'G3', 'G3', 'G3', 'G3', 'G3', 'C2', 'G3', 'G3', 'G#3', 'G#3', 'A3', 'D2', 'G3', 'G3', 'D2', 'A3', 'A3', 'G3', 'B2', 'C3', 'D3', 'D3', 'D3', 'C3', 'D3', 'E-3', 'D3', 'C3', 'B-2', 'G#2', 'G2', 'G2', 'G2', 'G2', 'C3', 'B2', 'C3', 'D3', 'D3', 'D3', 'C3', 'D3', 'E-3', 'D3', 'C3', 'B-2', 'G#2', 'G2', 'G2', 'G2', 'G2', 'C3', 'G3', 'G3', 'G3', 'G3', 'G3', 'G3', 'G3', 'G3', 'G3', 'G3', 'G3', 'G3', 'G3', 'G3', 'G3', 'G3', 'G3', 'G3', 'G3', 'G3', 'G3', 'G3', 'G3', 'G3', 'G3', 'G3', 'G3', 'G3', 'G3', 'G3', 'G3', 'G3', 'G3', 'G3', 'G3', 'G3', 'G3', 'G3', 'G3', 'G3', 'G3', 'G3', 'G3', 'G3', 'G3', 'G3', 'G3', 'G3', 'G3', 'G3', 'G3', 'G3', 'G3', 'G3', 'G3', 'G3', 'G3', 'G3', 'G3', 'G3', 'G3', 'G3', 'G3', 'G3', 'G3', 'G3', 'G3', 'G3', 'G3', 'G3', 'G3', 'G3', 'G3', 'G3', 'F3', 'F3', 'F3', 'E3', 'E3', 'E3', 'F2', 'A3', 'A3', 'G2', 'G3', 'G3', 'G2', 'G3', 'G3', 'G2', 'G3', 'G3', 'G3', 'A3', 'B3', 'C4', 'G3', 'G3', 'G3', 'G3', 'G3', 'G3', 'G3', 'G3', 'G3', 'G3', 'G3', 'G3', 'G3', 'G3', 'G3', 'G3', 'G3', 'G3', 'G3', 'G3', 'G3', 'G3', 'G3', 'C4', 'D4', 'E-4', 'F#4', 'G3', 'G3', 'G3', 'G3', 'G3', 'G3', 'G3', 'G3', 'G3', 'G3', 'G3', 'G4', 'F4', 'E-4', 'C4', 'G3', 'G3', 'G3', 'G3', 'G3', 'G3', 'G3', 'G3', 'G3', 'G3', 'G3', 'G3', 'G4', 'G3', 'G#3', 'A3', 'B-3', 'B-3', 'B-3', 'G3', 'G3', 'G3', 'G3', 'G3', 'G3', 'B-3', 'B-3', 'B-3', 'F4', 'F4', 'F4', 'D4', 'D4', 'D4', 'B-3', 'B-3', 'B-3', 'E-4', 'E-4', 'E-4', 'F4', 'F4', 'F4', 'E-4', 'E-4', 'E-4', 'G#3', 'G#3', 'G#3', 'G3', 'G3', 'G3', 'G3', 'G3', 'G3', 'G3', 'G3', 'G3', 'G3', 'G3', 'G3', 'G3', 'G3', 'G3', 'G3', 'G3', 'G3', 'G3', 'G3', 'G3', 'G3', 'G3', 'G3', 'G3', 'G3', 'G3', 'G3', 'G3', 'G3', 'G3', 'G3', 'G3', 'G3', 'G3', 'G3', 'G3', 'G3', 'G3', 'G3', 'G3', 'G3', 'G3', 'A2', 'A2', 'A2', 'A2', 'A2', 'B-2', 'A2', 'A2', 'A2', 'A2', 'A2', 'A2', 'A2', 'A2', 'A2', 'A2', 'A2', 'G#2', 'G#2', 'G#2', 'G#2', 'G#2', 'G#2', 'G#2', 'G#2', 'G#2', 'G#2', 'G#2', 'G#2', 'G2', 'G#2', 'G#2', 'G#2', 'G#2', 'G#2', 'G#2', 'G#2', 'G#2', 'G2', 'G2', 'G2', 'F#2', 'F#2', 'F#2', 'F#2', 'F#2', 'F#2', 'F#2', 'F#2', 'F#2', 'F#2', 'F#2', 'F#2', 'C3', 'D3', 'E-3', 'G2', 'G2', 'G2', 'G2', 'G2', 'G2', 'G2', 'G2', 'G2', 'G2', 'G2', 'G2', 'E3', 'D3', 'C2', 'C2', 'C2', 'C2', 'C2', 'C2', 'C2', 'C2', 'C2', 'C2', 'C2', 'C2', 'C3', 'C2', 'C3', 'C2', 'C2', 'C2', 'C2', 'C2', 'C2', 'G4', 'G4', 'C4', 'D4', 'E-4', 'D4', 'C4', 'E4', 'D4', 'C4', 'B3', 'C4', 'D4', 'D4', 'D4', 'C4', 'D4', 'E-4', 'D4', 'C4', 'G3', 'C4', 'D4', 'E-4', 'D4', 'C4', 'E4', 'D4', 'C4', 'E4', 'D4', 'C4', 'E3', 'D3', 'C3', 'C3', 'C3']\n"
     ]
    }
   ],
   "source": [
    "# initialize list that will hold sub-lists of notes for each song\n",
    "allNotes = []\n",
    "\n",
    "# retrieve paths of MIDI files\n",
    "midiFiles = [os.path.join('midiFiles', file) for file in os.listdir('midiFiles') if file.endswith('.mid')]\n",
    "\n",
    "\"\"\"\n",
    "for path in midiFiles:\n",
    "    midi = converter.parse(path)\n",
    "    notes = getNotes(midi)\n",
    "    allNotes.append(notes)\n",
    "\"\"\"\n",
    "midi = converter.parse(midiFiles[6])\n",
    "notes = getNotes(midi)\n",
    "\n",
    "allNotes.append(notes)\n",
    "\n",
    "print(\"Notes for the first MIDI file:\")\n",
    "print(allNotes[0])\n"
   ]
  },
  {
   "cell_type": "code",
   "execution_count": 5,
   "metadata": {},
   "outputs": [],
   "source": [
    "notes = allNotes[0]\n",
    "note_stream = stream.Stream()\n",
    "\n",
    "for n in notes:\n",
    "    noteObj = note.Note(n)\n",
    "    note_stream.append(noteObj)\n",
    "\n",
    "note_stream.append(tempo.MetronomeMark(number=120))\n",
    "midi_file = note_stream.write('midi', fp='test.mid')"
   ]
  },
  {
   "cell_type": "code",
   "execution_count": null,
   "metadata": {},
   "outputs": [],
   "source": []
  }
 ],
 "metadata": {
  "kernelspec": {
   "display_name": "Python 3 (ipykernel)",
   "language": "python",
   "name": "python3"
  },
  "language_info": {
   "codemirror_mode": {
    "name": "ipython",
    "version": 3
   },
   "file_extension": ".py",
   "mimetype": "text/x-python",
   "name": "python",
   "nbconvert_exporter": "python",
   "pygments_lexer": "ipython3",
   "version": "3.11.4"
  },
  "toc": {
   "base_numbering": 1,
   "nav_menu": {},
   "number_sections": false,
   "sideBar": true,
   "skip_h1_title": false,
   "title_cell": "Table of Contents",
   "title_sidebar": "Contents",
   "toc_cell": false,
   "toc_position": {},
   "toc_section_display": true,
   "toc_window_display": true
  },
  "varInspector": {
   "cols": {
    "lenName": 16,
    "lenType": 16,
    "lenVar": 40
   },
   "kernels_config": {
    "python": {
     "delete_cmd_postfix": "",
     "delete_cmd_prefix": "del ",
     "library": "var_list.py",
     "varRefreshCmd": "print(var_dic_list())"
    },
    "r": {
     "delete_cmd_postfix": ") ",
     "delete_cmd_prefix": "rm(",
     "library": "var_list.r",
     "varRefreshCmd": "cat(var_dic_list()) "
    }
   },
   "types_to_exclude": [
    "module",
    "function",
    "builtin_function_or_method",
    "instance",
    "_Feature"
   ],
   "window_display": false
  }
 },
 "nbformat": 4,
 "nbformat_minor": 2
}
