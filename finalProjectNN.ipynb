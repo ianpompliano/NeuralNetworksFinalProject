{
 "cells": [
  {
   "cell_type": "markdown",
   "metadata": {},
   "source": [
    "# Music Generation - Siddharth Shah, Ian Pompliano\n",
    "\n",
    "Artificial Neural Networks and Deep Learning Final Project (Fall 2023)"
   ]
  },
  {
   "cell_type": "markdown",
   "metadata": {},
   "source": [
    "**Part 1: Scrape MIDI files.**"
   ]
  },
  {
   "cell_type": "code",
   "execution_count": 1,
   "metadata": {},
   "outputs": [],
   "source": [
    "import requests\n",
    "import os\n",
    "from bs4 import BeautifulSoup\n",
    "from music21 import *"
   ]
  },
  {
   "cell_type": "code",
   "execution_count": 2,
   "metadata": {},
   "outputs": [],
   "source": [
    "# list of composers\n",
    "composers = [\"albeniz\", \"bach\", \"balak\", \"beeth\", \"borodin\", \"brahms\", \"burgm\",\n",
    "             \"chopin\", \"clementi\", \"debuss\", \"godowsky\", \"grana\", \"grieg\", \"haydn\",\n",
    "             \"liszt\", \"mendelssohn\", \"moszkowski\", \"mozart\", \"muss\", \"rach\", \"ravel\",\n",
    "             \"schub\", \"schum\", \"sinding\", \"tschai\"]\n",
    "\n",
    "baseURL = 'http://www.piano-midi.de/'\n",
    "\n",
    "# create a directory to save downloaded MIDI files\n",
    "if not os.path.exists('midiFiles'):\n",
    "    os.makedirs('midiFiles')\n",
    "\n",
    "for composer in composers:\n",
    "    # create URL using respective composer\n",
    "    url = baseURL + composer + '.htm'\n",
    "    response = requests.get(url)\n",
    "\n",
    "    soup = BeautifulSoup(response.content, 'html.parser')\n",
    "\n",
    "    # Find MIDI links on the composer's page\n",
    "    midiLinks = soup.find_all('a', href=True)\n",
    "\n",
    "    for link in midiLinks:\n",
    "        # removes duplicate MIDI files (special format0)\n",
    "        if link['href'].endswith('.mid') and '_format0' not in link['href']:\n",
    "            midiURL = baseURL + link['href']\n",
    "            fileName = f\"midiFiles/{composer}_{link['href'].split('/')[-1]}\"\n",
    "\n",
    "            # download MIDI file and save it to directory\n",
    "            with open(fileName, 'wb') as midiFile:\n",
    "                midiResponse = requests.get(midiURL)\n",
    "                midiFile.write(midiResponse.content)"
   ]
  },
  {
   "cell_type": "markdown",
   "metadata": {},
   "source": [
    "**Part 2: Organize notes in each MIDI file. Create list of sublists containing notes for each song**"
   ]
  },
  {
   "cell_type": "code",
   "execution_count": 3,
   "metadata": {},
   "outputs": [],
   "source": [
    "# helper function to get the notes in a given MIDI file\n",
    "def getNotes(file):\n",
    "    # initalize list of notes to return\n",
    "    notes = []\n",
    "    pick = file.recurse()\n",
    "\n",
    "    for element in pick:\n",
    "        # if element is note, add to list of notes\n",
    "        if isinstance(element, note.Note):\n",
    "            notes.append(str(element.pitch))\n",
    "        # if element is chord, add highest pitch (generally belongs to melody) to list of notes.\n",
    "        elif isinstance(element, chord.Chord):\n",
    "            highestPitch = max(element.pitches)\n",
    "            notes.append(str(highestPitch))\n",
    "    return notes"
   ]
  },
  {
   "cell_type": "code",
   "execution_count": 4,
   "metadata": {},
   "outputs": [
    {
     "name": "stderr",
     "output_type": "stream",
     "text": [
      "/Users/ianpompliano/anaconda3/lib/python3.11/site-packages/music21/midi/translate.py:874: TranslateWarning: Unable to determine instrument from <music21.midi.MidiEvent SEQUENCE_TRACK_NAME, track=5, channel=None, data=b'Copyright \\xa9 2007 by Bernd Krueger'>; getting generic Instrument\n",
      "  warnings.warn(\n",
      "/Users/ianpompliano/anaconda3/lib/python3.11/site-packages/music21/midi/translate.py:874: TranslateWarning: Unable to determine instrument from <music21.midi.MidiEvent SEQUENCE_TRACK_NAME, track=4, channel=None, data=b'Copyright \\xa9 1998 by Bernd Kr\\xfcger'>; getting generic Instrument\n",
      "  warnings.warn(\n",
      "/Users/ianpompliano/anaconda3/lib/python3.11/site-packages/music21/midi/translate.py:874: TranslateWarning: Unable to determine instrument from <music21.midi.MidiEvent SEQUENCE_TRACK_NAME, track=4, channel=None, data=b'Copyright \\xa9 2004 by Bernd Kr\\xfcger'>; getting generic Instrument\n",
      "  warnings.warn(\n",
      "/Users/ianpompliano/anaconda3/lib/python3.11/site-packages/music21/midi/translate.py:874: TranslateWarning: Unable to determine instrument from <music21.midi.MidiEvent SEQUENCE_TRACK_NAME, track=5, channel=None, data=b'Copyright \\xa9 2009 by Bernd Krueger'>; getting generic Instrument\n",
      "  warnings.warn(\n",
      "/Users/ianpompliano/anaconda3/lib/python3.11/site-packages/music21/midi/translate.py:874: TranslateWarning: Unable to determine instrument from <music21.midi.MidiEvent SEQUENCE_TRACK_NAME, track=5, channel=None, data=b'Copyright \\xa9 2008 by Bernd Krueger'>; getting generic Instrument\n",
      "  warnings.warn(\n",
      "/Users/ianpompliano/anaconda3/lib/python3.11/site-packages/music21/midi/translate.py:874: TranslateWarning: Unable to determine instrument from <music21.midi.MidiEvent SEQUENCE_TRACK_NAME, track=0, channel=None, data=b'Mondscheinsonate; der Gr\\xe4fin Giulietta Guiccardi gewidmet'>; getting generic Instrument\n",
      "  warnings.warn(\n",
      "/Users/ianpompliano/anaconda3/lib/python3.11/site-packages/music21/midi/translate.py:874: TranslateWarning: Unable to determine instrument from <music21.midi.MidiEvent SEQUENCE_TRACK_NAME, track=6, channel=None, data=b'Copyright \\xa9 1998 by Bernd Krueger'>; getting generic Instrument\n",
      "  warnings.warn(\n",
      "/Users/ianpompliano/anaconda3/lib/python3.11/site-packages/music21/midi/translate.py:874: TranslateWarning: Unable to determine instrument from <music21.midi.MidiEvent SEQUENCE_TRACK_NAME, track=5, channel=None, data=b'Copyright \\xa9 1998 by Bernd Kr\\xfcger'>; getting generic Instrument\n",
      "  warnings.warn(\n",
      "/Users/ianpompliano/anaconda3/lib/python3.11/site-packages/music21/midi/translate.py:874: TranslateWarning: Unable to determine instrument from <music21.midi.MidiEvent SEQUENCE_TRACK_NAME, track=4, channel=None, data=b'Copyright \\xa9 2002 by Bernd Krueger'>; getting generic Instrument\n",
      "  warnings.warn(\n",
      "/Users/ianpompliano/anaconda3/lib/python3.11/site-packages/music21/midi/translate.py:874: TranslateWarning: Unable to determine instrument from <music21.midi.MidiEvent SEQUENCE_TRACK_NAME, track=4, channel=None, data=b'Copyright \\xa9 2003 by Bernd Krueger'>; getting generic Instrument\n",
      "  warnings.warn(\n",
      "/Users/ianpompliano/anaconda3/lib/python3.11/site-packages/music21/midi/translate.py:874: TranslateWarning: Unable to determine instrument from <music21.midi.MidiEvent SEQUENCE_TRACK_NAME, track=4, channel=None, data=b'Copyright \\xa9 2012 by Bernd Kr\\xfcger'>; getting generic Instrument\n",
      "  warnings.warn(\n",
      "/Users/ianpompliano/anaconda3/lib/python3.11/site-packages/music21/midi/translate.py:874: TranslateWarning: Unable to determine instrument from <music21.midi.MidiEvent SEQUENCE_TRACK_NAME, track=0, channel=None, data=b'Grieg: Lyrische St\\xfccke Op. 12 Nr. 4 Elfentanz'>; getting generic Instrument\n",
      "  warnings.warn(\n",
      "/Users/ianpompliano/anaconda3/lib/python3.11/site-packages/music21/midi/translate.py:874: TranslateWarning: Unable to determine instrument from <music21.midi.MidiEvent SEQUENCE_TRACK_NAME, track=4, channel=None, data=b'Copyright \\xa9 2002 by Bernd Kr\\xfcger'>; getting generic Instrument\n",
      "  warnings.warn(\n",
      "/Users/ianpompliano/anaconda3/lib/python3.11/site-packages/music21/midi/translate.py:874: TranslateWarning: Unable to determine instrument from <music21.midi.MidiEvent SEQUENCE_TRACK_NAME, track=6, channel=None, data=b'Copyright \\xa9 2004 by Bernd Kr\\xfcger'>; getting generic Instrument\n",
      "  warnings.warn(\n",
      "/Users/ianpompliano/anaconda3/lib/python3.11/site-packages/music21/midi/translate.py:874: TranslateWarning: Unable to determine instrument from <music21.midi.MidiEvent SEQUENCE_TRACK_NAME, track=4, channel=None, data=b'Copyright \\xa9 1998 by Bernd Krueger'>; getting generic Instrument\n",
      "  warnings.warn(\n",
      "/Users/ianpompliano/anaconda3/lib/python3.11/site-packages/music21/midi/translate.py:874: TranslateWarning: Unable to determine instrument from <music21.midi.MidiEvent SEQUENCE_TRACK_NAME, track=4, channel=None, data=b'Copyright \\xa9 1997 by Bernd Krueger'>; getting generic Instrument\n",
      "  warnings.warn(\n",
      "/Users/ianpompliano/anaconda3/lib/python3.11/site-packages/music21/midi/translate.py:874: TranslateWarning: Unable to determine instrument from <music21.midi.MidiEvent SEQUENCE_TRACK_NAME, track=5, channel=None, data=b'Copyright \\xa9 1998 by Bernd Krueger'>; getting generic Instrument\n",
      "  warnings.warn(\n",
      "/Users/ianpompliano/anaconda3/lib/python3.11/site-packages/music21/midi/translate.py:874: TranslateWarning: Unable to determine instrument from <music21.midi.MidiEvent SEQUENCE_TRACK_NAME, track=4, channel=None, data=b'Copyright \\xa9 2000 by Bernd Kr\\xfcger'>; getting generic Instrument\n",
      "  warnings.warn(\n",
      "/Users/ianpompliano/anaconda3/lib/python3.11/site-packages/music21/midi/translate.py:874: TranslateWarning: Unable to determine instrument from <music21.midi.MidiEvent SEQUENCE_TRACK_NAME, track=0, channel=None, data=b'Fr\\xfchlingsrauschen'>; getting generic Instrument\n",
      "  warnings.warn(\n",
      "/Users/ianpompliano/anaconda3/lib/python3.11/site-packages/music21/midi/translate.py:874: TranslateWarning: Unable to determine instrument from <music21.midi.MidiEvent SEQUENCE_TRACK_NAME, track=4, channel=None, data=b'Sinding: Fr\\xfchlingsrauschen'>; getting generic Instrument\n",
      "  warnings.warn(\n",
      "/Users/ianpompliano/anaconda3/lib/python3.11/site-packages/music21/midi/translate.py:874: TranslateWarning: Unable to determine instrument from <music21.midi.MidiEvent SEQUENCE_TRACK_NAME, track=5, channel=None, data=b'Copyright \\xa9 2010 by Bernd Krueger'>; getting generic Instrument\n",
      "  warnings.warn(\n",
      "/Users/ianpompliano/anaconda3/lib/python3.11/site-packages/music21/midi/translate.py:874: TranslateWarning: Unable to determine instrument from <music21.midi.MidiEvent SEQUENCE_TRACK_NAME, track=5, channel=None, data=b'Copyright \\xa9 2002 by Bernd Kr\\xfcger'>; getting generic Instrument\n",
      "  warnings.warn(\n",
      "/Users/ianpompliano/anaconda3/lib/python3.11/site-packages/music21/midi/translate.py:874: TranslateWarning: Unable to determine instrument from <music21.midi.MidiEvent SEQUENCE_TRACK_NAME, track=5, channel=None, data=b'Copyright \\xa9 1997 by Bernd Krueger'>; getting generic Instrument\n",
      "  warnings.warn(\n",
      "/Users/ianpompliano/anaconda3/lib/python3.11/site-packages/music21/midi/translate.py:874: TranslateWarning: Unable to determine instrument from <music21.midi.MidiEvent SEQUENCE_TRACK_NAME, track=5, channel=None, data=b'Copyright \\xa9 1997 by Bernd Kr\\xfcger'>; getting generic Instrument\n",
      "  warnings.warn(\n",
      "/Users/ianpompliano/anaconda3/lib/python3.11/site-packages/music21/midi/translate.py:874: TranslateWarning: Unable to determine instrument from <music21.midi.MidiEvent SEQUENCE_TRACK_NAME, track=5, channel=None, data=b'Copyright \\xa9 2006 by Bernd Krueger'>; getting generic Instrument\n",
      "  warnings.warn(\n",
      "/Users/ianpompliano/anaconda3/lib/python3.11/site-packages/music21/midi/translate.py:874: TranslateWarning: Unable to determine instrument from <music21.midi.MidiEvent SEQUENCE_TRACK_NAME, track=5, channel=None, data=b'Copyright \\xa9 2005 by Bernd Kr\\xfcger'>; getting generic Instrument\n",
      "  warnings.warn(\n",
      "/Users/ianpompliano/anaconda3/lib/python3.11/site-packages/music21/midi/translate.py:874: TranslateWarning: Unable to determine instrument from <music21.midi.MidiEvent SEQUENCE_TRACK_NAME, track=6, channel=None, data=b'Copyright \\xa9 2013 by Bernd Krueger'>; getting generic Instrument\n",
      "  warnings.warn(\n"
     ]
    },
    {
     "name": "stderr",
     "output_type": "stream",
     "text": [
      "/Users/ianpompliano/anaconda3/lib/python3.11/site-packages/music21/midi/translate.py:874: TranslateWarning: Unable to determine instrument from <music21.midi.MidiEvent SEQUENCE_TRACK_NAME, track=5, channel=None, data=b'Copyright \\xa9 2001 by Bernd Kr\\xfcger'>; getting generic Instrument\n",
      "  warnings.warn(\n",
      "/Users/ianpompliano/anaconda3/lib/python3.11/site-packages/music21/midi/translate.py:874: TranslateWarning: Unable to determine instrument from <music21.midi.MidiEvent SEQUENCE_TRACK_NAME, track=5, channel=None, data=b'Copyright \\xa9 2006 by Bernd Kr\\xfcger'>; getting generic Instrument\n",
      "  warnings.warn(\n",
      "/Users/ianpompliano/anaconda3/lib/python3.11/site-packages/music21/midi/translate.py:874: TranslateWarning: Unable to determine instrument from <music21.midi.MidiEvent SEQUENCE_TRACK_NAME, track=4, channel=None, data=b'Copyright \\xa9 1996 by Bernd Krueger'>; getting generic Instrument\n",
      "  warnings.warn(\n",
      "/Users/ianpompliano/anaconda3/lib/python3.11/site-packages/music21/midi/translate.py:874: TranslateWarning: Unable to determine instrument from <music21.midi.MidiEvent SEQUENCE_TRACK_NAME, track=4, channel=None, data=b'Copyright \\xa9 2001 by Bernd Kr\\xfcger'>; getting generic Instrument\n",
      "  warnings.warn(\n",
      "/Users/ianpompliano/anaconda3/lib/python3.11/site-packages/music21/midi/translate.py:874: TranslateWarning: Unable to determine instrument from <music21.midi.MidiEvent SEQUENCE_TRACK_NAME, track=4, channel=None, data=b'Copyright \\xa9 1999 by Bernd Kr\\xfcger'>; getting generic Instrument\n",
      "  warnings.warn(\n",
      "/Users/ianpompliano/anaconda3/lib/python3.11/site-packages/music21/midi/translate.py:874: TranslateWarning: Unable to determine instrument from <music21.midi.MidiEvent SEQUENCE_TRACK_NAME, track=5, channel=None, data=b'Copyright \\xa9 2004 by Bernd Kr\\xfcger'>; getting generic Instrument\n",
      "  warnings.warn(\n",
      "/Users/ianpompliano/anaconda3/lib/python3.11/site-packages/music21/midi/translate.py:874: TranslateWarning: Unable to determine instrument from <music21.midi.MidiEvent SEQUENCE_TRACK_NAME, track=8, channel=None, data=b'Copyright 2004 by Bernd Kr\\xfcger.'>; getting generic Instrument\n",
      "  warnings.warn(\n",
      "/Users/ianpompliano/anaconda3/lib/python3.11/site-packages/music21/midi/translate.py:874: TranslateWarning: Unable to determine instrument from <music21.midi.MidiEvent SEQUENCE_TRACK_NAME, track=5, channel=None, data=b'Copyright \\xa9 2000 by Bernd Kr\\xfcger'>; getting generic Instrument\n",
      "  warnings.warn(\n",
      "/Users/ianpompliano/anaconda3/lib/python3.11/site-packages/music21/midi/translate.py:874: TranslateWarning: Unable to determine instrument from <music21.midi.MidiEvent SEQUENCE_TRACK_NAME, track=7, channel=None, data=b'Copyright \\xa9 2004 by Bernd Kr\\xfcger'>; getting generic Instrument\n",
      "  warnings.warn(\n",
      "/Users/ianpompliano/anaconda3/lib/python3.11/site-packages/music21/midi/translate.py:874: TranslateWarning: Unable to determine instrument from <music21.midi.MidiEvent SEQUENCE_TRACK_NAME, track=0, channel=None, data=b'Promenade - Ballett der K\\xfcchlein  in ihren Eierschalen'>; getting generic Instrument\n",
      "  warnings.warn(\n",
      "/Users/ianpompliano/anaconda3/lib/python3.11/site-packages/music21/midi/translate.py:874: TranslateWarning: Unable to determine instrument from <music21.midi.MidiEvent SEQUENCE_TRACK_NAME, track=0, channel=None, data=b'Von fremden L\\xe4ndern und Menschen'>; getting generic Instrument\n",
      "  warnings.warn(\n",
      "/Users/ianpompliano/anaconda3/lib/python3.11/site-packages/music21/midi/translate.py:874: TranslateWarning: Unable to determine instrument from <music21.midi.MidiEvent SEQUENCE_TRACK_NAME, track=7, channel=None, data=b'Copyright 2004 by Bernd Kr\\xfcger.'>; getting generic Instrument\n",
      "  warnings.warn(\n",
      "/Users/ianpompliano/anaconda3/lib/python3.11/site-packages/music21/midi/translate.py:874: TranslateWarning: Unable to determine instrument from <music21.midi.MidiEvent SEQUENCE_TRACK_NAME, track=5, channel=None, data=b'Copyright \\xa9 2012 by Bernd Kr\\xfcger'>; getting generic Instrument\n",
      "  warnings.warn(\n",
      "/Users/ianpompliano/anaconda3/lib/python3.11/site-packages/music21/midi/translate.py:874: TranslateWarning: Unable to determine instrument from <music21.midi.MidiEvent SEQUENCE_TRACK_NAME, track=5, channel=None, data=b'Copyright \\xa9 2013 by Bernd Krueger'>; getting generic Instrument\n",
      "  warnings.warn(\n",
      "/Users/ianpompliano/anaconda3/lib/python3.11/site-packages/music21/midi/translate.py:874: TranslateWarning: Unable to determine instrument from <music21.midi.MidiEvent SEQUENCE_TRACK_NAME, track=0, channel=None, data=b'Grieg: Lyrische St\\xfccke Op. 43 Nr. 2 - Einsamer Wanderer'>; getting generic Instrument\n",
      "  warnings.warn(\n",
      "/Users/ianpompliano/anaconda3/lib/python3.11/site-packages/music21/midi/translate.py:874: TranslateWarning: Unable to determine instrument from <music21.midi.MidiEvent SEQUENCE_TRACK_NAME, track=4, channel=None, data=b'Copyright \\xa9 1997 by Bernd Kr\\xfcger'>; getting generic Instrument\n",
      "  warnings.warn(\n",
      "/Users/ianpompliano/anaconda3/lib/python3.11/site-packages/music21/midi/translate.py:874: TranslateWarning: Unable to determine instrument from <music21.midi.MidiEvent SEQUENCE_TRACK_NAME, track=0, channel=None, data=b'Pr\\xe4ludium und Fuge in D-Dur, BWV 850'>; getting generic Instrument\n",
      "  warnings.warn(\n",
      "/Users/ianpompliano/anaconda3/lib/python3.11/site-packages/music21/midi/translate.py:874: TranslateWarning: Unable to determine instrument from <music21.midi.MidiEvent SEQUENCE_TRACK_NAME, track=8, channel=None, data=b'Copyright 1997 by Bernd Kr\\xfcger.'>; getting generic Instrument\n",
      "  warnings.warn(\n",
      "/Users/ianpompliano/anaconda3/lib/python3.11/site-packages/music21/midi/translate.py:874: TranslateWarning: Unable to determine instrument from <music21.midi.MidiEvent SEQUENCE_TRACK_NAME, track=0, channel=None, data=b'Schumann: Knecht Ruprecht aus  Album f\\xfcr die Jugend Opus 68'>; getting generic Instrument\n",
      "  warnings.warn(\n",
      "/Users/ianpompliano/anaconda3/lib/python3.11/site-packages/music21/midi/translate.py:874: TranslateWarning: Unable to determine instrument from <music21.midi.MidiEvent SEQUENCE_TRACK_NAME, track=6, channel=None, data=b'Copyright \\xa9 2000 by Bernd Kr\\xfcger'>; getting generic Instrument\n",
      "  warnings.warn(\n",
      "/Users/ianpompliano/anaconda3/lib/python3.11/site-packages/music21/midi/translate.py:874: TranslateWarning: Unable to determine instrument from <music21.midi.MidiEvent SEQUENCE_TRACK_NAME, track=0, channel=None, data=b'W\\xe4chterlied Op12, No. 3'>; getting generic Instrument\n",
      "  warnings.warn(\n",
      "/Users/ianpompliano/anaconda3/lib/python3.11/site-packages/music21/midi/translate.py:874: TranslateWarning: Unable to determine instrument from <music21.midi.MidiEvent SEQUENCE_TRACK_NAME, track=4, channel=None, data=b'Copyright \\xa9 1999 by Bernd Krueger'>; getting generic Instrument\n",
      "  warnings.warn(\n",
      "/Users/ianpompliano/anaconda3/lib/python3.11/site-packages/music21/midi/translate.py:874: TranslateWarning: Unable to determine instrument from <music21.midi.MidiEvent SEQUENCE_TRACK_NAME, track=0, channel=None, data=b'Tr\\xe4umerei'>; getting generic Instrument\n",
      "  warnings.warn(\n",
      "/Users/ianpompliano/anaconda3/lib/python3.11/site-packages/music21/midi/translate.py:874: TranslateWarning: Unable to determine instrument from <music21.midi.MidiEvent SEQUENCE_TRACK_NAME, track=0, channel=None, data=b'Gl\\xfcckes genug'>; getting generic Instrument\n",
      "  warnings.warn(\n",
      "/Users/ianpompliano/anaconda3/lib/python3.11/site-packages/music21/midi/translate.py:874: TranslateWarning: Unable to determine instrument from <music21.midi.MidiEvent SEQUENCE_TRACK_NAME, track=0, channel=None, data=b'Et\\xfcde Opus 10 No. 5'>; getting generic Instrument\n",
      "  warnings.warn(\n",
      "/Users/ianpompliano/anaconda3/lib/python3.11/site-packages/music21/midi/translate.py:874: TranslateWarning: Unable to determine instrument from <music21.midi.MidiEvent SEQUENCE_TRACK_NAME, track=0, channel=None, data=b'Schwarze-Tasten-Et\\xfcde'>; getting generic Instrument\n",
      "  warnings.warn(\n",
      "/Users/ianpompliano/anaconda3/lib/python3.11/site-packages/music21/midi/translate.py:874: TranslateWarning: Unable to determine instrument from <music21.midi.MidiEvent SEQUENCE_TRACK_NAME, track=4, channel=None, data=b'Produced 1997 by Bernd Kr\\xfcger.'>; getting generic Instrument\n",
      "  warnings.warn(\n",
      "/Users/ianpompliano/anaconda3/lib/python3.11/site-packages/music21/midi/translate.py:874: TranslateWarning: Unable to determine instrument from <music21.midi.MidiEvent SEQUENCE_TRACK_NAME, track=0, channel=None, data=b'Grieg: Lyrische St\\xfccke Op. 43 No. 1 - Schmetterling'>; getting generic Instrument\n",
      "  warnings.warn(\n"
     ]
    },
    {
     "name": "stderr",
     "output_type": "stream",
     "text": [
      "/Users/ianpompliano/anaconda3/lib/python3.11/site-packages/music21/midi/translate.py:874: TranslateWarning: Unable to determine instrument from <music21.midi.MidiEvent SEQUENCE_TRACK_NAME, track=0, channel=None, data=b'Et\\xfcde Nr. 12'>; getting generic Instrument\n",
      "  warnings.warn(\n",
      "/Users/ianpompliano/anaconda3/lib/python3.11/site-packages/music21/midi/translate.py:874: TranslateWarning: Unable to determine instrument from <music21.midi.MidiEvent SEQUENCE_TRACK_NAME, track=5, channel=None, data=b'Copyright \\xa9 1999 by Bernd Kr\\xfcger'>; getting generic Instrument\n",
      "  warnings.warn(\n",
      "/Users/ianpompliano/anaconda3/lib/python3.11/site-packages/music21/midi/translate.py:874: TranslateWarning: Unable to determine instrument from <music21.midi.MidiEvent SEQUENCE_TRACK_NAME, track=4, channel=None, data=b'Copyright \\xa9 2006 by Bernd Kr\\xfcger'>; getting generic Instrument\n",
      "  warnings.warn(\n",
      "/Users/ianpompliano/anaconda3/lib/python3.11/site-packages/music21/midi/translate.py:874: TranslateWarning: Unable to determine instrument from <music21.midi.MidiEvent SEQUENCE_TRACK_NAME, track=0, channel=None, data=b'Grieg: Lyrische St\\xfccke, Es war einmal, Opus 71 Nr. 1'>; getting generic Instrument\n",
      "  warnings.warn(\n",
      "/Users/ianpompliano/anaconda3/lib/python3.11/site-packages/music21/midi/translate.py:874: TranslateWarning: Unable to determine instrument from <music21.midi.MidiEvent SEQUENCE_TRACK_NAME, track=0, channel=None, data=b'Grieg: Lyrische St\\xfccke Op. 43 Nr. 6 Book III - An den Fr\\xfchling'>; getting generic Instrument\n",
      "  warnings.warn(\n",
      "/Users/ianpompliano/anaconda3/lib/python3.11/site-packages/music21/midi/translate.py:874: TranslateWarning: Unable to determine instrument from <music21.midi.MidiEvent SEQUENCE_TRACK_NAME, track=5, channel=None, data=b'Copyright \\xa9 2012 by Bernd Krueger'>; getting generic Instrument\n",
      "  warnings.warn(\n",
      "/Users/ianpompliano/anaconda3/lib/python3.11/site-packages/music21/midi/translate.py:874: TranslateWarning: Unable to determine instrument from <music21.midi.MidiEvent SEQUENCE_TRACK_NAME, track=0, channel=None, data=b'V\\xf6glein Op 43, No. 4'>; getting generic Instrument\n",
      "  warnings.warn(\n",
      "/Users/ianpompliano/anaconda3/lib/python3.11/site-packages/music21/midi/translate.py:874: TranslateWarning: Unable to determine instrument from <music21.midi.MidiEvent SEQUENCE_TRACK_NAME, track=3, channel=None, data=b'Grieg: V\\xf6glein, Op. 43 No. 4'>; getting generic Instrument\n",
      "  warnings.warn(\n",
      "/Users/ianpompliano/anaconda3/lib/python3.11/site-packages/music21/midi/translate.py:874: TranslateWarning: Unable to determine instrument from <music21.midi.MidiEvent SEQUENCE_TRACK_NAME, track=5, channel=None, data=b'Copyright \\xa9 2002 by Bernd Krueger'>; getting generic Instrument\n",
      "  warnings.warn(\n",
      "/Users/ianpompliano/anaconda3/lib/python3.11/site-packages/music21/midi/translate.py:874: TranslateWarning: Unable to determine instrument from <music21.midi.MidiEvent SEQUENCE_TRACK_NAME, track=5, channel=None, data=b'Copyright \\xa9 2011 by Bernd Krueger'>; getting generic Instrument\n",
      "  warnings.warn(\n",
      "/Users/ianpompliano/anaconda3/lib/python3.11/site-packages/music21/midi/translate.py:874: TranslateWarning: Unable to determine instrument from <music21.midi.MidiEvent SEQUENCE_TRACK_NAME, track=0, channel=None, data=b'Grieg: Lyrische St\\xfccke, B\\xe4chlein, Opus 62 Nr. 4'>; getting generic Instrument\n",
      "  warnings.warn(\n",
      "/Users/ianpompliano/anaconda3/lib/python3.11/site-packages/music21/midi/translate.py:874: TranslateWarning: Unable to determine instrument from <music21.midi.MidiEvent SEQUENCE_TRACK_NAME, track=0, channel=None, data=b'Baba-Yaga  - Das gro\\xdfe Tor von Kiew'>; getting generic Instrument\n",
      "  warnings.warn(\n",
      "/Users/ianpompliano/anaconda3/lib/python3.11/site-packages/music21/midi/translate.py:874: TranslateWarning: Unable to determine instrument from <music21.midi.MidiEvent SEQUENCE_TRACK_NAME, track=4, channel=None, data=b'Beethoven Sonata No. 8 C minor, Grand Sonate path\\xe9tique 1. Movement'>; getting generic Instrument\n",
      "  warnings.warn(\n",
      "/Users/ianpompliano/anaconda3/lib/python3.11/site-packages/music21/midi/translate.py:874: TranslateWarning: Unable to determine instrument from <music21.midi.MidiEvent SEQUENCE_TRACK_NAME, track=5, channel=None, data=b'Copyright \\xa9 2003 by Bernd Krueger'>; getting generic Instrument\n",
      "  warnings.warn(\n",
      "/Users/ianpompliano/anaconda3/lib/python3.11/site-packages/music21/midi/translate.py:874: TranslateWarning: Unable to determine instrument from <music21.midi.MidiEvent SEQUENCE_TRACK_NAME, track=0, channel=None, data=b'Grieg: Lyrische St\\xfccke, Albumblatt, Opus 42 Nr. 2'>; getting generic Instrument\n",
      "  warnings.warn(\n",
      "/Users/ianpompliano/anaconda3/lib/python3.11/site-packages/music21/midi/translate.py:874: TranslateWarning: Unable to determine instrument from <music21.midi.MidiEvent SEQUENCE_TRACK_NAME, track=0, channel=None, data=b'Et\\xfcde Opus 25, No. 11'>; getting generic Instrument\n",
      "  warnings.warn(\n",
      "/Users/ianpompliano/anaconda3/lib/python3.11/site-packages/music21/midi/translate.py:874: TranslateWarning: Unable to determine instrument from <music21.midi.MidiEvent SEQUENCE_TRACK_NAME, track=0, channel=None, data=b'Sturmet\\xfcde'>; getting generic Instrument\n",
      "  warnings.warn(\n",
      "/Users/ianpompliano/anaconda3/lib/python3.11/site-packages/music21/midi/translate.py:874: TranslateWarning: Unable to determine instrument from <music21.midi.MidiEvent SEQUENCE_TRACK_NAME, track=6, channel=None, data=b'Beethoven Sonata No. 8 C minor, Grand Sonate path\\xe9tique 2. Movement'>; getting generic Instrument\n",
      "  warnings.warn(\n",
      "/Users/ianpompliano/anaconda3/lib/python3.11/site-packages/music21/midi/translate.py:874: TranslateWarning: Unable to determine instrument from <music21.midi.MidiEvent SEQUENCE_TRACK_NAME, track=7, channel=None, data=b'Copyright \\xa9 2003 by Bernd Krueger'>; getting generic Instrument\n",
      "  warnings.warn(\n",
      "/Users/ianpompliano/anaconda3/lib/python3.11/site-packages/music21/midi/translate.py:874: TranslateWarning: Unable to determine instrument from <music21.midi.MidiEvent SEQUENCE_TRACK_NAME, track=0, channel=None, data=b'Schumann:   Fr\\xf6hlicher Landmann, von der Arbeit zur\\xfcckkehrend'>; getting generic Instrument\n",
      "  warnings.warn(\n",
      "/Users/ianpompliano/anaconda3/lib/python3.11/site-packages/music21/midi/translate.py:874: TranslateWarning: Unable to determine instrument from <music21.midi.MidiEvent SEQUENCE_TRACK_NAME, track=0, channel=None, data=b'aus Album f\\xfcr die Jugend Opus 68, Nr. 10'>; getting generic Instrument\n",
      "  warnings.warn(\n",
      "/Users/ianpompliano/anaconda3/lib/python3.11/site-packages/music21/midi/translate.py:874: TranslateWarning: Unable to determine instrument from <music21.midi.MidiEvent SEQUENCE_TRACK_NAME, track=4, channel=None, data=b'Schumann: Fr\\xf6hlicher Landmann'>; getting generic Instrument\n",
      "  warnings.warn(\n",
      "/Users/ianpompliano/anaconda3/lib/python3.11/site-packages/music21/midi/translate.py:874: TranslateWarning: Unable to determine instrument from <music21.midi.MidiEvent SEQUENCE_TRACK_NAME, track=0, channel=None, data=b'F\\xfcrchtenmachen'>; getting generic Instrument\n",
      "  warnings.warn(\n",
      "/Users/ianpompliano/anaconda3/lib/python3.11/site-packages/music21/midi/translate.py:874: TranslateWarning: Unable to determine instrument from <music21.midi.MidiEvent SEQUENCE_TRACK_NAME, track=4, channel=None, data=b'Beethoven Sonata No. 8 C minor, Grand Sonate path\\xe9tique 3. Movement'>; getting generic Instrument\n",
      "  warnings.warn(\n",
      "/Users/ianpompliano/anaconda3/lib/python3.11/site-packages/music21/midi/translate.py:874: TranslateWarning: Unable to determine instrument from <music21.midi.MidiEvent SEQUENCE_TRACK_NAME, track=0, channel=None, data=b'F\\xfcr Elise'>; getting generic Instrument\n",
      "  warnings.warn(\n",
      "/Users/ianpompliano/anaconda3/lib/python3.11/site-packages/music21/midi/translate.py:874: TranslateWarning: Unable to determine instrument from <music21.midi.MidiEvent SEQUENCE_TRACK_NAME, track=3, channel=None, data=b'Beethoven F\\xfcr Elise'>; getting generic Instrument\n",
      "  warnings.warn(\n",
      "/Users/ianpompliano/anaconda3/lib/python3.11/site-packages/music21/midi/translate.py:874: TranslateWarning: Unable to determine instrument from <music21.midi.MidiEvent SEQUENCE_TRACK_NAME, track=6, channel=None, data=b'Copyright \\xa9 2010 by Bernd Krueger'>; getting generic Instrument\n",
      "  warnings.warn(\n"
     ]
    },
    {
     "name": "stderr",
     "output_type": "stream",
     "text": [
      "/Users/ianpompliano/anaconda3/lib/python3.11/site-packages/music21/midi/translate.py:874: TranslateWarning: Unable to determine instrument from <music21.midi.MidiEvent SEQUENCE_TRACK_NAME, track=0, channel=None, data=b'J\\xe4gerlied'>; getting generic Instrument\n",
      "  warnings.warn(\n",
      "/Users/ianpompliano/anaconda3/lib/python3.11/site-packages/music21/midi/translate.py:874: TranslateWarning: Unable to determine instrument from <music21.midi.MidiEvent SEQUENCE_TRACK_NAME, track=0, channel=None, data=b'Grieg: Lyrische St\\xfccke, Norwegischer Bauernmarsch, Opus 54 Nr. 2'>; getting generic Instrument\n",
      "  warnings.warn(\n",
      "/Users/ianpompliano/anaconda3/lib/python3.11/site-packages/music21/midi/translate.py:874: TranslateWarning: Unable to determine instrument from <music21.midi.MidiEvent SEQUENCE_TRACK_NAME, track=6, channel=None, data=b'Copyright \\xa9 2003 by Bernd Krueger'>; getting generic Instrument\n",
      "  warnings.warn(\n",
      "/Users/ianpompliano/anaconda3/lib/python3.11/site-packages/music21/midi/translate.py:874: TranslateWarning: Unable to determine instrument from <music21.midi.MidiEvent SEQUENCE_TRACK_NAME, track=0, channel=None, data=b'Grieg: Lyrische St\\xfccke Book II Opus 38 Nr. 4 - Halling'>; getting generic Instrument\n",
      "  warnings.warn(\n"
     ]
    }
   ],
   "source": [
    "# initialize list that will hold sub-lists of notes for each song\n",
    "allNotes = []\n",
    "\n",
    "# retrieve paths of MIDI files\n",
    "midiFiles = [os.path.join('midiFiles', file) for file in os.listdir('midiFiles') if file.endswith('.mid')]\n",
    "\n",
    "# append allNotes with note data for each song\n",
    "for path in midiFiles:\n",
    "    midi = converter.parse(path)\n",
    "    notes = getNotes(midi)\n",
    "    allNotes.append(notes)"
   ]
  },
  {
   "cell_type": "markdown",
   "metadata": {},
   "source": [
    "**Part 2.5: Visualize songs from corpus on sheet music**"
   ]
  },
  {
   "cell_type": "code",
   "execution_count": 5,
   "metadata": {},
   "outputs": [],
   "source": [
    "# import necessary libraries\n",
    "import IPython\n",
    "from IPython.display import Image"
   ]
  },
  {
   "cell_type": "code",
   "execution_count": 6,
   "metadata": {},
   "outputs": [],
   "source": [
    "# helper functions\n",
    "def show(music):\n",
    "    display(Image(str(music.write(\"lily.png\"))))\n",
    "    \n",
    "def chords_n_notes(Snippet):\n",
    "    Melody = []\n",
    "    offset = 0 #Incremental\n",
    "    for i in Snippet:\n",
    "        #If it is chord\n",
    "        if (\".\" in i or i.isdigit()):\n",
    "            chord_notes = i.split(\".\") #Seperating the notes in chord\n",
    "            notes = [] \n",
    "            for j in chord_notes:\n",
    "                inst_note=int(j)\n",
    "                note_snip = note.Note(inst_note)            \n",
    "                notes.append(note_snip)\n",
    "                chord_snip = chord.Chord(notes)\n",
    "                chord_snip.offset = offset\n",
    "                Melody.append(chord_snip)\n",
    "        # pattern is a note\n",
    "        else: \n",
    "            note_snip = note.Note(i)\n",
    "            note_snip.offset = offset\n",
    "            Melody.append(note_snip)\n",
    "        # increase offset each iteration so that notes do not stack\n",
    "        offset += 1\n",
    "    Melody_midi = stream.Stream(Melody)   \n",
    "    return Melody_midi"
   ]
  },
  {
   "cell_type": "code",
   "execution_count": 40,
   "metadata": {},
   "outputs": [
    {
     "ename": "LilyTranslateException",
     "evalue": "Cannot find a copy of Lilypond installed on your system. Please be sure it is installed. And that your environment.UserSettings()['lilypondPath'] is set to find it.",
     "output_type": "error",
     "traceback": [
      "\u001b[0;31m---------------------------------------------------------------------------\u001b[0m",
      "\u001b[0;31mFileNotFoundError\u001b[0m                         Traceback (most recent call last)",
      "File \u001b[0;32m~/anaconda3/lib/python3.11/site-packages/music21/lily/translate.py:205\u001b[0m, in \u001b[0;36mLilypondConverter.setupTools\u001b[0;34m(self)\u001b[0m\n\u001b[1;32m    204\u001b[0m \u001b[38;5;28;01mtry\u001b[39;00m:\n\u001b[0;32m--> 205\u001b[0m     \u001b[38;5;28;01mwith\u001b[39;00m subprocess\u001b[38;5;241m.\u001b[39mPopen(command, stdout\u001b[38;5;241m=\u001b[39msubprocess\u001b[38;5;241m.\u001b[39mPIPE) \u001b[38;5;28;01mas\u001b[39;00m proc:\n\u001b[1;32m    206\u001b[0m         stdout, unused \u001b[38;5;241m=\u001b[39m proc\u001b[38;5;241m.\u001b[39mcommunicate()\n",
      "File \u001b[0;32m~/anaconda3/lib/python3.11/subprocess.py:1026\u001b[0m, in \u001b[0;36mPopen.__init__\u001b[0;34m(self, args, bufsize, executable, stdin, stdout, stderr, preexec_fn, close_fds, shell, cwd, env, universal_newlines, startupinfo, creationflags, restore_signals, start_new_session, pass_fds, user, group, extra_groups, encoding, errors, text, umask, pipesize, process_group)\u001b[0m\n\u001b[1;32m   1023\u001b[0m             \u001b[38;5;28mself\u001b[39m\u001b[38;5;241m.\u001b[39mstderr \u001b[38;5;241m=\u001b[39m io\u001b[38;5;241m.\u001b[39mTextIOWrapper(\u001b[38;5;28mself\u001b[39m\u001b[38;5;241m.\u001b[39mstderr,\n\u001b[1;32m   1024\u001b[0m                     encoding\u001b[38;5;241m=\u001b[39mencoding, errors\u001b[38;5;241m=\u001b[39merrors)\n\u001b[0;32m-> 1026\u001b[0m     \u001b[38;5;28mself\u001b[39m\u001b[38;5;241m.\u001b[39m_execute_child(args, executable, preexec_fn, close_fds,\n\u001b[1;32m   1027\u001b[0m                         pass_fds, cwd, env,\n\u001b[1;32m   1028\u001b[0m                         startupinfo, creationflags, shell,\n\u001b[1;32m   1029\u001b[0m                         p2cread, p2cwrite,\n\u001b[1;32m   1030\u001b[0m                         c2pread, c2pwrite,\n\u001b[1;32m   1031\u001b[0m                         errread, errwrite,\n\u001b[1;32m   1032\u001b[0m                         restore_signals,\n\u001b[1;32m   1033\u001b[0m                         gid, gids, uid, umask,\n\u001b[1;32m   1034\u001b[0m                         start_new_session, process_group)\n\u001b[1;32m   1035\u001b[0m \u001b[38;5;28;01mexcept\u001b[39;00m:\n\u001b[1;32m   1036\u001b[0m     \u001b[38;5;66;03m# Cleanup if the child failed starting.\u001b[39;00m\n",
      "File \u001b[0;32m~/anaconda3/lib/python3.11/subprocess.py:1950\u001b[0m, in \u001b[0;36mPopen._execute_child\u001b[0;34m(self, args, executable, preexec_fn, close_fds, pass_fds, cwd, env, startupinfo, creationflags, shell, p2cread, p2cwrite, c2pread, c2pwrite, errread, errwrite, restore_signals, gid, gids, uid, umask, start_new_session, process_group)\u001b[0m\n\u001b[1;32m   1949\u001b[0m         err_msg \u001b[38;5;241m=\u001b[39m os\u001b[38;5;241m.\u001b[39mstrerror(errno_num)\n\u001b[0;32m-> 1950\u001b[0m     \u001b[38;5;28;01mraise\u001b[39;00m child_exception_type(errno_num, err_msg, err_filename)\n\u001b[1;32m   1951\u001b[0m \u001b[38;5;28;01mraise\u001b[39;00m child_exception_type(err_msg)\n",
      "\u001b[0;31mFileNotFoundError\u001b[0m: [Errno 2] No such file or directory: 'lilypond'",
      "\nThe above exception was the direct cause of the following exception:\n",
      "\u001b[0;31mLilyTranslateException\u001b[0m                    Traceback (most recent call last)",
      "Cell \u001b[0;32mIn[40], line 6\u001b[0m\n\u001b[1;32m      4\u001b[0m \u001b[38;5;66;03m# execute helper functions for sheet music display\u001b[39;00m\n\u001b[1;32m      5\u001b[0m melody_snippet \u001b[38;5;241m=\u001b[39m chords_n_notes(sample_notes)\n\u001b[0;32m----> 6\u001b[0m show(melody_snippet)\n",
      "Cell \u001b[0;32mIn[6], line 3\u001b[0m, in \u001b[0;36mshow\u001b[0;34m(music)\u001b[0m\n\u001b[1;32m      2\u001b[0m \u001b[38;5;28;01mdef\u001b[39;00m \u001b[38;5;21mshow\u001b[39m(music):\n\u001b[0;32m----> 3\u001b[0m     display(Image(\u001b[38;5;28mstr\u001b[39m(music\u001b[38;5;241m.\u001b[39mwrite(\u001b[38;5;124m\"\u001b[39m\u001b[38;5;124mlily.png\u001b[39m\u001b[38;5;124m\"\u001b[39m))))\n",
      "File \u001b[0;32m~/anaconda3/lib/python3.11/site-packages/music21/stream/base.py:406\u001b[0m, in \u001b[0;36mStream.write\u001b[0;34m(self, fmt, fp, **keywords)\u001b[0m\n\u001b[1;32m    404\u001b[0m \u001b[38;5;28;01mif\u001b[39;00m \u001b[38;5;28mself\u001b[39m\u001b[38;5;241m.\u001b[39misSorted \u001b[38;5;129;01mis\u001b[39;00m \u001b[38;5;28;01mFalse\u001b[39;00m \u001b[38;5;129;01mand\u001b[39;00m \u001b[38;5;28mself\u001b[39m\u001b[38;5;241m.\u001b[39mautoSort:  \u001b[38;5;66;03m# pragma: no cover\u001b[39;00m\n\u001b[1;32m    405\u001b[0m     \u001b[38;5;28mself\u001b[39m\u001b[38;5;241m.\u001b[39msort()\n\u001b[0;32m--> 406\u001b[0m \u001b[38;5;28;01mreturn\u001b[39;00m \u001b[38;5;28msuper\u001b[39m()\u001b[38;5;241m.\u001b[39mwrite(fmt\u001b[38;5;241m=\u001b[39mfmt, fp\u001b[38;5;241m=\u001b[39mfp, \u001b[38;5;241m*\u001b[39m\u001b[38;5;241m*\u001b[39mkeywords)\n",
      "File \u001b[0;32m~/anaconda3/lib/python3.11/site-packages/music21/base.py:2886\u001b[0m, in \u001b[0;36mMusic21Object.write\u001b[0;34m(self, fmt, fp, **keywords)\u001b[0m\n\u001b[1;32m   2884\u001b[0m     \u001b[38;5;28;01mraise\u001b[39;00m Music21ObjectException(\u001b[38;5;124mf\u001b[39m\u001b[38;5;124m'\u001b[39m\u001b[38;5;124mcannot support output in this format yet: \u001b[39m\u001b[38;5;132;01m{\u001b[39;00mfmt\u001b[38;5;132;01m}\u001b[39;00m\u001b[38;5;124m'\u001b[39m)\n\u001b[1;32m   2885\u001b[0m formatWriter \u001b[38;5;241m=\u001b[39m scClass()\n\u001b[0;32m-> 2886\u001b[0m \u001b[38;5;28;01mreturn\u001b[39;00m formatWriter\u001b[38;5;241m.\u001b[39mwrite(\u001b[38;5;28mself\u001b[39m,\n\u001b[1;32m   2887\u001b[0m                           fmt\u001b[38;5;241m=\u001b[39mregularizedConverterFormat,\n\u001b[1;32m   2888\u001b[0m                           fp\u001b[38;5;241m=\u001b[39mfp,\n\u001b[1;32m   2889\u001b[0m                           subformats\u001b[38;5;241m=\u001b[39msubformats,\n\u001b[1;32m   2890\u001b[0m                           \u001b[38;5;241m*\u001b[39m\u001b[38;5;241m*\u001b[39mkeywords)\n",
      "File \u001b[0;32m~/anaconda3/lib/python3.11/site-packages/music21/converter/subConverters.py:425\u001b[0m, in \u001b[0;36mConverterLilypond.write\u001b[0;34m(self, obj, fmt, fp, subformats, coloredVariants, **keywords)\u001b[0m\n\u001b[1;32m    416\u001b[0m \u001b[38;5;28;01mdef\u001b[39;00m \u001b[38;5;21mwrite\u001b[39m(\u001b[38;5;28mself\u001b[39m,\n\u001b[1;32m    417\u001b[0m           obj,\n\u001b[1;32m    418\u001b[0m           fmt,\n\u001b[0;32m   (...)\u001b[0m\n\u001b[1;32m    422\u001b[0m           coloredVariants: \u001b[38;5;28mbool\u001b[39m \u001b[38;5;241m=\u001b[39m \u001b[38;5;28;01mFalse\u001b[39;00m,\n\u001b[1;32m    423\u001b[0m           \u001b[38;5;241m*\u001b[39m\u001b[38;5;241m*\u001b[39mkeywords):  \u001b[38;5;66;03m# pragma: no cover\u001b[39;00m\n\u001b[1;32m    424\u001b[0m     \u001b[38;5;28;01mfrom\u001b[39;00m \u001b[38;5;21;01mmusic21\u001b[39;00m \u001b[38;5;28;01mimport\u001b[39;00m lily\n\u001b[0;32m--> 425\u001b[0m     conv \u001b[38;5;241m=\u001b[39m lily\u001b[38;5;241m.\u001b[39mtranslate\u001b[38;5;241m.\u001b[39mLilypondConverter()\n\u001b[1;32m    426\u001b[0m     conv\u001b[38;5;241m.\u001b[39mcoloredVariants \u001b[38;5;241m=\u001b[39m coloredVariants\n\u001b[1;32m    427\u001b[0m     conv\u001b[38;5;241m.\u001b[39mloadFromMusic21Object(obj)\n",
      "File \u001b[0;32m~/anaconda3/lib/python3.11/site-packages/music21/lily/translate.py:164\u001b[0m, in \u001b[0;36mLilypondConverter.__init__\u001b[0;34m(self)\u001b[0m\n\u001b[1;32m    161\u001b[0m \u001b[38;5;28mself\u001b[39m\u001b[38;5;241m.\u001b[39mbackendString \u001b[38;5;241m=\u001b[39m \u001b[38;5;124m'\u001b[39m\u001b[38;5;124m--backend=\u001b[39m\u001b[38;5;124m'\u001b[39m\n\u001b[1;32m    163\u001b[0m \u001b[38;5;28mself\u001b[39m\u001b[38;5;241m.\u001b[39mtopLevelObject \u001b[38;5;241m=\u001b[39m lyo\u001b[38;5;241m.\u001b[39mLyLilypondTop()\n\u001b[0;32m--> 164\u001b[0m \u001b[38;5;28mself\u001b[39m\u001b[38;5;241m.\u001b[39msetupTools()\n\u001b[1;32m    165\u001b[0m \u001b[38;5;28mself\u001b[39m\u001b[38;5;241m.\u001b[39mcontext \u001b[38;5;241m=\u001b[39m \u001b[38;5;28mself\u001b[39m\u001b[38;5;241m.\u001b[39mtopLevelObject\n\u001b[1;32m    166\u001b[0m \u001b[38;5;28mself\u001b[39m\u001b[38;5;241m.\u001b[39mstoredContexts \u001b[38;5;241m=\u001b[39m []\n",
      "File \u001b[0;32m~/anaconda3/lib/python3.11/site-packages/music21/lily/translate.py:211\u001b[0m, in \u001b[0;36mLilypondConverter.setupTools\u001b[0;34m(self)\u001b[0m\n\u001b[1;32m    209\u001b[0m         versionPieces \u001b[38;5;241m=\u001b[39m versionString\u001b[38;5;241m.\u001b[39msplit(\u001b[38;5;124m'\u001b[39m\u001b[38;5;124m.\u001b[39m\u001b[38;5;124m'\u001b[39m)\n\u001b[1;32m    210\u001b[0m \u001b[38;5;28;01mexcept\u001b[39;00m \u001b[38;5;167;01mOSError\u001b[39;00m \u001b[38;5;28;01mas\u001b[39;00m exc:  \u001b[38;5;66;03m# pragma: no cover\u001b[39;00m\n\u001b[0;32m--> 211\u001b[0m     \u001b[38;5;28;01mraise\u001b[39;00m LilyTranslateException(\n\u001b[1;32m    212\u001b[0m         \u001b[38;5;124m'\u001b[39m\u001b[38;5;124mCannot find a copy of Lilypond installed on your system. \u001b[39m\u001b[38;5;124m'\u001b[39m\n\u001b[1;32m    213\u001b[0m         \u001b[38;5;241m+\u001b[39m \u001b[38;5;124m'\u001b[39m\u001b[38;5;124mPlease be sure it is installed. And that your \u001b[39m\u001b[38;5;124m'\u001b[39m\n\u001b[1;32m    214\u001b[0m         \u001b[38;5;241m+\u001b[39m \u001b[38;5;124m\"\u001b[39m\u001b[38;5;124menvironment.UserSettings()[\u001b[39m\u001b[38;5;124m'\u001b[39m\u001b[38;5;124mlilypondPath\u001b[39m\u001b[38;5;124m'\u001b[39m\u001b[38;5;124m] is set to find it.\u001b[39m\u001b[38;5;124m\"\u001b[39m) \u001b[38;5;28;01mfrom\u001b[39;00m \u001b[38;5;21;01mexc\u001b[39;00m\n\u001b[1;32m    216\u001b[0m \u001b[38;5;28mself\u001b[39m\u001b[38;5;241m.\u001b[39mmajorVersion \u001b[38;5;241m=\u001b[39m versionPieces[\u001b[38;5;241m0\u001b[39m]\n\u001b[1;32m    217\u001b[0m \u001b[38;5;28mself\u001b[39m\u001b[38;5;241m.\u001b[39mminorVersion \u001b[38;5;241m=\u001b[39m versionPieces[\u001b[38;5;241m1\u001b[39m]\n",
      "\u001b[0;31mLilyTranslateException\u001b[0m: Cannot find a copy of Lilypond installed on your system. Please be sure it is installed. And that your environment.UserSettings()['lilypondPath'] is set to find it."
     ]
    }
   ],
   "source": [
    "# sample first 50 notes from first song in corpus\n",
    "sample_notes = allNotes[0][:50]\n",
    "\n",
    "# execute helper functions for sheet music display\n",
    "melody_snippet = chords_n_notes(sample_notes)\n",
    "show(melody_snippet)"
   ]
  },
  {
   "cell_type": "markdown",
   "metadata": {},
   "source": [
    "**Part 3: Map notes for each song to strings with normalized characters**\n"
   ]
  },
  {
   "cell_type": "code",
   "execution_count": 8,
   "metadata": {},
   "outputs": [],
   "source": [
    "# function maps individual notes to specific chars for sequencing.\n",
    "# note that, for example, both C#2 and D-2 map to '#'. This is because\n",
    "# these two notes are the same pitch, but may be represented differently\n",
    "# in musical notation. D- indicates D flat.\n",
    "def oldMapNote(note):\n",
    "    noteMapping = {\n",
    "        'C2': '@', 'C#2': '#', 'D-2': '#', 'D2': '$', 'D#2': '%', 'E-2': '%', 'E2': '^', 'F2': '&', 'F#2': '*',\n",
    "        'G-2': '*', 'G2': '(', 'G#2': ')', 'A-2': ')', 'A2': '_', 'A#2': '+', 'B-2': '+', 'B2': '-',\n",
    "        \n",
    "        'C3': 'q', 'C#3': 'w', 'D-3': 'w', 'D3': 'e', 'D#3': 'r', 'E-3': 'r', 'E3': 't', 'F3': 'y', 'F#3': 'u',\n",
    "        'G-3': 'u', 'G3': 'i', 'G#3': 'o', 'A-3': 'o', 'A3': 'p', 'A#3': '[', 'B-3': '[', 'B3': ']',\n",
    "        \n",
    "        'C4': 'a', 'C#4': 's', 'D-4': 's', 'D4': 'd', 'D#4': 'f', 'E-4': 'f', 'E4': 'g', 'F4': 'h', 'F#4': 'j',\n",
    "        'G-4': 'j', 'G4': 'k', 'G#4': 'l', 'A-4': 'l', 'A4': ';', 'A#4': '?', 'B-4': '?', 'B4': 'z',\n",
    "        \n",
    "        'C5': 'x', 'C#5': 'c', 'D-5': 'c', 'D5': 'v', 'D#5': 'b', 'E-5': 'b', 'E5': 'n', 'F5': 'm', 'F#5': ',',\n",
    "        'G-5': ',', 'G5': '.', 'G#5': '/', 'A-5': '/', 'A5': 'Q', 'A#5': 'W', 'B-5': 'W', 'B5': 'E',\n",
    "        \n",
    "        'C6': 'R', 'C#6': 'T', 'D-6': 'T', 'D6': 'Y', 'D#6': 'U', 'E-6': 'U', 'E6': 'I', 'F6': 'O', 'F#6': 'P',\n",
    "        'G-6': 'P', 'G6': '{', 'G#6': '}', 'A-6': '}', 'A6': '|', 'A#6': 'A', 'B-6': 'A', 'B6': 'S',\n",
    "        \n",
    "        'C7': 'D', 'C#7': 'F', 'D-7': 'F', 'D7': 'G', 'D#7': 'H', 'E-7': 'H', 'E7': 'J', 'F7': 'K', 'F#7': 'L',\n",
    "        'G-7': 'L', 'G7': ':', 'G#7': '\"', 'A-7': '\"', 'A7': 'Z', 'A#7': 'X', 'B-7': 'X', 'B7': 'C',\n",
    "        \n",
    "        'C8': 'V'\n",
    "    }\n",
    "\n",
    "    return noteMapping.get(note, note)"
   ]
  },
  {
   "cell_type": "code",
   "execution_count": 9,
   "metadata": {},
   "outputs": [],
   "source": [
    "def mapNote(note):\n",
    "    \n",
    "    noteMapping = {\n",
    "        'C2': 0, 'C#2': 1, 'D-2': 1, 'D2': 2, 'D#2': 3, 'E-2': 3, 'E2': 4, 'F2': 5, 'F#2': 6,\n",
    "        'G-2': 6, 'G2': 7, 'G#2': 8, 'A-2': 8, 'A2': 9, 'A#2': 10, 'B-2': 10, 'B2': 11,\n",
    "        'C3': 12, 'C#3': 13, 'D-3': 13, 'D3': 14, 'D#3': 15, 'E-3': 15, 'E3': 16, 'F3': 17, 'F#3': 18,\n",
    "        'G-3': 18, 'G3': 19, 'G#3': 20, 'A-3': 20, 'A3': 21, 'A#3': 22, 'B-3': 22, 'B3': 23,\n",
    "        'C4': 24, 'C#4': 25, 'D-4': 25, 'D4': 26, 'D#4': 27, 'E-4': 27, 'E4': 28, 'F4': 29, 'F#4': 30,\n",
    "        'G-4': 30, 'G4': 31, 'G#4': 32, 'A-4': 32, 'A4': 33, 'A#4': 34, 'B-4': 34, 'B4': 35,\n",
    "        'C5': 36, 'C#5': 37, 'D-5': 37, 'D5': 38, 'D#5': 39, 'E-5': 39, 'E5': 40, 'F5': 41, 'F#5': 42,\n",
    "        'G-5': 42, 'G5': 43, 'G#5': 44, 'A-5': 44, 'A5': 45, 'A#5': 46, 'B-5': 46, 'B5': 47,\n",
    "        'C6': 48, 'C#6': 49, 'D-6': 49, 'D6': 50, 'D#6': 51, 'E-6': 51, 'E6': 52, 'F6': 53, 'F#6': 54,\n",
    "        'G-6': 54, 'G6': 55, 'G#6': 56, 'A-6': 56, 'A6': 57, 'A#6': 58, 'B-6': 58, 'B6': 59,\n",
    "        'C7': 60, 'C#7': 61, 'D-7': 61, 'D7': 62, 'D#7': 63, 'E-7': 63, 'E7': 64, 'F7': 65, 'F#7': 66,\n",
    "        'G-7': 66, 'G7': 67, 'G#7': 68, 'A-7': 68, 'A7': 69, 'A#7': 70, 'B-7': 70, 'B7': 71,\n",
    "        'C8': 72, 'C#8': 73, 'D-8': 73, 'D8': 74, 'D#8': 75, 'E-8': 75, 'E8': 76, 'F8': 77, 'F#8': 78,\n",
    "        'G-8': 78, 'G8': 79, 'G#8': 80, 'A-8': 80, 'A8': 81, 'A#8': 82, 'B-8': 82, 'B8': 83,\n",
    "        'B-1': 84, 'A0': 85, 'A#0': 86, 'B0': 87, 'C1': 88, 'C#1': 89, 'D1': 90, 'D#1': 91, 'E1': 92,\n",
    "        'E-1': 93, 'F1': 94, 'F#1': 95, 'G1': 96, 'G#1': 97,\n",
    "        'A1': 98, 'B-0': 99, 'B1': 100,\n",
    "    }\n",
    "\n",
    "    return noteMapping.get(note, note)"
   ]
  },
  {
   "cell_type": "code",
   "execution_count": 27,
   "metadata": {},
   "outputs": [
    {
     "name": "stdout",
     "output_type": "stream",
     "text": [
      "13\n"
     ]
    }
   ],
   "source": [
    "# Example usage:\n",
    "note_as_integer = mapNote('C#3')\n",
    "print(note_as_integer)\n"
   ]
  },
  {
   "cell_type": "code",
   "execution_count": 11,
   "metadata": {},
   "outputs": [
    {
     "ename": "TypeError",
     "evalue": "can only concatenate str (not \"int\") to str",
     "output_type": "error",
     "traceback": [
      "\u001b[0;31m---------------------------------------------------------------------------\u001b[0m",
      "\u001b[0;31mTypeError\u001b[0m                                 Traceback (most recent call last)",
      "Cell \u001b[0;32mIn[11], line 10\u001b[0m\n\u001b[1;32m      8\u001b[0m \u001b[38;5;66;03m# iterate through raw note data for each song, map note to respective char, add char to song string\u001b[39;00m\n\u001b[1;32m      9\u001b[0m \u001b[38;5;28;01mfor\u001b[39;00m j \u001b[38;5;129;01min\u001b[39;00m \u001b[38;5;28mrange\u001b[39m(\u001b[38;5;28mlen\u001b[39m(allNotes[i])):\n\u001b[0;32m---> 10\u001b[0m     buildString \u001b[38;5;241m+\u001b[39m\u001b[38;5;241m=\u001b[39m mapNote(allNotes[i][j])\n\u001b[1;32m     12\u001b[0m \u001b[38;5;66;03m# append list of strings with built string\u001b[39;00m\n\u001b[1;32m     13\u001b[0m allNotesMapped\u001b[38;5;241m.\u001b[39mappend(buildString)\n",
      "\u001b[0;31mTypeError\u001b[0m: can only concatenate str (not \"int\") to str"
     ]
    }
   ],
   "source": [
    "# initialize list of strings where each char in string is a mapped note. Each string represents one song\n",
    "allNotesMapped = []\n",
    "\n",
    "# iterate through all songs in allNotes list\n",
    "for i in range(len(allNotes)):\n",
    "    buildString = \"\"\n",
    "    \n",
    "    # iterate through raw note data for each song, map note to respective char, add char to song string\n",
    "    for j in range(len(allNotes[i])):\n",
    "        buildString += mapNote(allNotes[i][j])\n",
    "    \n",
    "    # append list of strings with built string\n",
    "    allNotesMapped.append(buildString)"
   ]
  },
  {
   "cell_type": "code",
   "execution_count": 12,
   "metadata": {},
   "outputs": [],
   "source": [
    "# initialize list of songs where each song is represented as a list of int-mapped notes\n",
    "mapped_songs = []\n",
    "\n",
    "# iterate through all songs in allNotes list\n",
    "for i in range(len(allNotes)):\n",
    "    song_lst = []\n",
    "    \n",
    "    # iterate through raw note data for each song, map note to respective char, add char to song string\n",
    "    for j in range(len(allNotes[i])):\n",
    "        song_lst.append(mapNote(allNotes[i][j]))\n",
    "    \n",
    "    # append list of strings with built string\n",
    "    mapped_songs.append(song_lst)"
   ]
  },
  {
   "cell_type": "markdown",
   "metadata": {},
   "source": [
    "**Optional: Pickle library to store and reload allNotesMapped**"
   ]
  },
  {
   "cell_type": "code",
   "execution_count": 13,
   "metadata": {},
   "outputs": [],
   "source": [
    "# pickle and Download allNotesMapped for future reference\n",
    "import pickle as pkl\n",
    "\n",
    "with open('mapped_songs.pkl', 'wb') as file:\n",
    "    pkl.dump(mapped_songs, file)"
   ]
  },
  {
   "cell_type": "code",
   "execution_count": 14,
   "metadata": {},
   "outputs": [],
   "source": [
    "# pickle to reload allNotesMapped\n",
    "import pickle as pkl\n",
    "\n",
    "# unpickle the data structure from the file\n",
    "with open('mapped_songs.pkl', 'rb') as file:\n",
    "    mapped_songs = pkl.load(file)"
   ]
  },
  {
   "cell_type": "markdown",
   "metadata": {},
   "source": [
    "**Part 4: Build the Network**"
   ]
  },
  {
   "cell_type": "code",
   "execution_count": 15,
   "metadata": {},
   "outputs": [],
   "source": [
    "import numpy as np\n",
    "import tensorflow as tf\n",
    "import pandas as pd\n",
    "import matplotlib.pyplot as plt\n",
    "import seaborn as sns\n",
    "\n",
    "from sklearn.model_selection import train_test_split\n",
    "from tensorflow.keras.models import Sequential\n",
    "from tensorflow.keras.layers import LSTM, Dense, Dropout\n",
    "import tensorflow.keras.backend as K\n",
    "from tensorflow.keras.optimizers import Adamax"
   ]
  },
  {
   "cell_type": "code",
   "execution_count": 16,
   "metadata": {},
   "outputs": [],
   "source": [
    "# mapped_songs -- array of songs representing lists of notes mapped to arbitrary integers\n",
    "# oraganize data structure into array of arrays\n",
    "all_notes = mapped_songs # [list(song) for song in allNotesMapped]\n",
    "\n",
    "# split corpus into labels and targets\n",
    "length = 40 # arbitrarily choose input sequences of length 40\n",
    "features = []\n",
    "targets = []\n",
    "\n",
    "for song in all_notes: \n",
    "    for i in range(0, len(song) - length, 1):\n",
    "        features.append(song[i:i + length])\n",
    "        targets.append(song[i + length])"
   ]
  },
  {
   "cell_type": "code",
   "execution_count": 17,
   "metadata": {},
   "outputs": [
    {
     "name": "stdout",
     "output_type": "stream",
     "text": [
      "num sequences of sample music: 519046\n",
      "num classes: {0, 1, 2, 3, 4, 5, 6, 7, 8, 9, 10, 11, 12, 13, 14, 15, 16, 17, 18, 19, 20, 21, 22, 23, 24, 25, 26, 27, 28, 29, 30, 31, 32, 33, 34, 35, 36, 37, 38, 39, 40, 41, 42, 43, 44, 45, 46, 47, 48, 49, 50, 51, 52, 53, 54, 55, 56, 57, 58, 59, 60, 61, 62, 63, 64, 65, 66, 67, 68, 69, 70, 71, 84, 85, 87, 88, 89, 90, 92, 93, 94, 95, 96, 97, 98, 99, 100}\n"
     ]
    }
   ],
   "source": [
    "# display summary statistics\n",
    "num_datapoints = len(targets)\n",
    "num_classes = 101 # obtained from mapping\n",
    "\n",
    "print(f\"num sequences of sample music: {num_datapoints}\")\n",
    "print(f\"num classes: {set(targets)}\")\n"
   ]
  },
  {
   "cell_type": "code",
   "execution_count": 18,
   "metadata": {},
   "outputs": [],
   "source": [
    "# reshape X and LATER normalize\n",
    "X = (np.reshape(features, (num_datapoints, length, 1))) # / float(L_symb)\n",
    "# TODO -- one hot encode X input\n",
    "\n",
    "# one hot encode the output variable\n",
    "#y = np.array(targets)\n",
    "y = tf.keras.utils.to_categorical(targets, num_classes=num_classes)"
   ]
  },
  {
   "cell_type": "code",
   "execution_count": 19,
   "metadata": {},
   "outputs": [],
   "source": [
    "# Split labels and targets into training and seed data\n",
    "X_train, X_seed, y_train, y_seed = train_test_split(X, y, test_size=0.2, random_state=42)"
   ]
  },
  {
   "cell_type": "code",
   "execution_count": 21,
   "metadata": {},
   "outputs": [
    {
     "name": "stderr",
     "output_type": "stream",
     "text": [
      "WARNING:absl:At this time, the v2.11+ optimizer `tf.keras.optimizers.Adamax` runs slowly on M1/M2 Macs, please use the legacy Keras optimizer instead, located at `tf.keras.optimizers.legacy.Adamax`.\n",
      "WARNING:absl:There is a known slowdown when using v2.11+ Keras optimizers on M1/M2 Macs. Falling back to the legacy Keras optimizer, i.e., `tf.keras.optimizers.legacy.Adamax`.\n"
     ]
    }
   ],
   "source": [
    "# Initialize the Model\n",
    "model = Sequential()\n",
    "\n",
    "# Additional layers\n",
    "model.add(LSTM(512, input_shape=(X.shape[1], X.shape[2]), return_sequences=True))\n",
    "model.add(Dropout(0.4))\n",
    "model.add(LSTM(256))\n",
    "model.add(Dense(256))\n",
    "model.add(Dropout(0.4))\n",
    "model.add(Dense(y.shape[1], activation='softmax'))\n",
    "\n",
    "# Compile the model for training  \n",
    "opt = Adamax(learning_rate=0.01)\n",
    "model.compile(loss='categorical_crossentropy', optimizer=opt)"
   ]
  },
  {
   "cell_type": "code",
   "execution_count": 22,
   "metadata": {},
   "outputs": [
    {
     "name": "stdout",
     "output_type": "stream",
     "text": [
      "Model: \"sequential_1\"\n",
      "_________________________________________________________________\n",
      " Layer (type)                Output Shape              Param #   \n",
      "=================================================================\n",
      " lstm_2 (LSTM)               (None, 40, 512)           1052672   \n",
      "                                                                 \n",
      " dropout_2 (Dropout)         (None, 40, 512)           0         \n",
      "                                                                 \n",
      " lstm_3 (LSTM)               (None, 256)               787456    \n",
      "                                                                 \n",
      " dense_2 (Dense)             (None, 256)               65792     \n",
      "                                                                 \n",
      " dropout_3 (Dropout)         (None, 256)               0         \n",
      "                                                                 \n",
      " dense_3 (Dense)             (None, 101)               25957     \n",
      "                                                                 \n",
      "=================================================================\n",
      "Total params: 1931877 (7.37 MB)\n",
      "Trainable params: 1931877 (7.37 MB)\n",
      "Non-trainable params: 0 (0.00 Byte)\n",
      "_________________________________________________________________\n"
     ]
    }
   ],
   "source": [
    "# Display Model Summary               \n",
    "model.summary()"
   ]
  },
  {
   "cell_type": "code",
   "execution_count": 23,
   "metadata": {},
   "outputs": [
    {
     "name": "stdout",
     "output_type": "stream",
     "text": [
      "Epoch 1/2\n",
      "1623/1623 [==============================] - 920s 566ms/step - loss: 3.0354\n",
      "Epoch 2/2\n",
      "1623/1623 [==============================] - 953s 587ms/step - loss: 2.8478\n"
     ]
    }
   ],
   "source": [
    "# Train the Model\n",
    "history = model.fit(X_train, y_train, batch_size=256, epochs=2)"
   ]
  },
  {
   "cell_type": "code",
   "execution_count": 25,
   "metadata": {},
   "outputs": [
    {
     "data": {
      "text/plain": [
       "[Text(0.5, 0, 'Epochs')]"
      ]
     },
     "execution_count": 25,
     "metadata": {},
     "output_type": "execute_result"
    },
    {
     "data": {
      "image/png": "[encoded data removed]",
      "text/plain": [
       "<Figure size 1500x400 with 1 Axes>"
      ]
     },
     "metadata": {
      "image/png": {
       "height": 411,
       "width": 1251
      }
     },
     "output_type": "display_data"
    }
   ],
   "source": [
    "# Plot learning via loss function\n",
    "history_df = pd.DataFrame(history.history)\n",
    "fig = plt.figure(figsize=(15,4), facecolor=\"#97BACB\")\n",
    "fig.suptitle(\"Learning Plot of Model for Loss\")\n",
    "pl=sns.lineplot(data=history_df[\"loss\"],color=\"#444160\")\n",
    "pl.set(ylabel =\"Training Loss\")\n",
    "pl.set(xlabel =\"Epochs\")"
   ]
  },
  {
   "cell_type": "markdown",
   "metadata": {},
   "source": [
    "**Part 5: Generate sample music from input seed**"
   ]
  },
  {
   "cell_type": "code",
   "execution_count": 26,
   "metadata": {},
   "outputs": [
    {
     "ename": "NameError",
     "evalue": "name 'L_symb' is not defined",
     "output_type": "error",
     "traceback": [
      "\u001b[0;31m---------------------------------------------------------------------------\u001b[0m",
      "\u001b[0;31mNameError\u001b[0m                                 Traceback (most recent call last)",
      "Cell \u001b[0;32mIn[26], line 12\u001b[0m\n\u001b[1;32m     10\u001b[0m prediction \u001b[38;5;241m=\u001b[39m exp_preds \u001b[38;5;241m/\u001b[39m np\u001b[38;5;241m.\u001b[39msum(exp_preds)\n\u001b[1;32m     11\u001b[0m index \u001b[38;5;241m=\u001b[39m np\u001b[38;5;241m.\u001b[39margmax(prediction)\n\u001b[0;32m---> 12\u001b[0m index_N \u001b[38;5;241m=\u001b[39m index\u001b[38;5;241m/\u001b[39m \u001b[38;5;28mfloat\u001b[39m(L_symb)   \n\u001b[1;32m     13\u001b[0m Notes_Generated\u001b[38;5;241m.\u001b[39mappend(index)\n\u001b[1;32m     14\u001b[0m Music \u001b[38;5;241m=\u001b[39m [reverse_mapping[char] \u001b[38;5;28;01mfor\u001b[39;00m char \u001b[38;5;129;01min\u001b[39;00m Notes_Generated]\n",
      "\u001b[0;31mNameError\u001b[0m: name 'L_symb' is not defined"
     ]
    }
   ],
   "source": [
    "seed = X_seed[np.random.randint(0,len(X_seed)-1)]\n",
    "Music = \"\"\n",
    "Notes_Generated = []\n",
    "\n",
    "for i in range(100):\n",
    "    seed = seed.reshape(1,length,1)\n",
    "    prediction = model.predict(seed, verbose=0)[0]\n",
    "    prediction = np.log(prediction) / 1.0 #diversity\n",
    "    exp_preds = np.exp(prediction)\n",
    "    prediction = exp_preds / np.sum(exp_preds)\n",
    "    index = np.argmax(prediction)\n",
    "    index_N = index/ float(L_symb)   \n",
    "    Notes_Generated.append(index)\n",
    "    Music = [reverse_mapping[char] for char in Notes_Generated]\n",
    "    seed = np.insert(seed[0],len(seed[0]),index_N)\n",
    "    seed = seed[1:]"
   ]
  },
  {
   "cell_type": "code",
   "execution_count": null,
   "metadata": {},
   "outputs": [],
   "source": []
  },
  {
   "cell_type": "markdown",
   "metadata": {},
   "source": [
    "**Part 6: Reverse map output to musical notation and form MIDI file**"
   ]
  },
  {
   "cell_type": "code",
   "execution_count": 22,
   "metadata": {},
   "outputs": [],
   "source": [
    "# function that will convert char in produced sequence string back to note notation.\n",
    "# note that here, we omit flats, because we can represent all flat pitches as sharps as well\n",
    "# i.e. A flat is the same as G#, Db is the same as C#\n",
    "def oldReverseMap(char):\n",
    "    notes = {\n",
    "        '@': 'C2', '#': 'C#2', '$': 'D2', '%': 'D#2', '^': 'E2', '&': 'F2', '*': 'F#2',\n",
    "        '(': 'G2', ')': 'G#2', '_': 'A2', '+': 'A#2', '-': 'B2',\n",
    "        \n",
    "        'q': 'C3', 'w': 'C#3', 'e': 'D3', 'r': 'D#3', 't': 'E3', 'y': 'F3', 'u': 'F#3',\n",
    "        'i': 'G3', 'o': 'G#3', 'p': 'A3', '[': 'A#3', ']': 'B3',\n",
    "        \n",
    "        'a': 'C4', 's': 'C#4', 'd': 'D4', 'f': 'D#4', 'g': 'E4', 'h': 'F4', 'j': 'F#4',\n",
    "        'k': 'G4', 'l': 'G#4', ';': 'A4', '?': 'A#4', 'z': 'B4',\n",
    "        \n",
    "        'x': 'C5', 'c': 'C#5', 'v': 'D5', 'b': 'D#5', 'n': 'E5', 'm': 'F5', ',': 'F#5',\n",
    "        '.': 'G5', '/': 'G#5', 'Q': 'A5', 'W': 'A#5', 'E': 'B5',\n",
    "        \n",
    "        'R': 'C6', 'T': 'C#6', 'Y': 'D6', 'U': 'D#6', 'I': 'E6', 'O': 'F6', 'P': 'F#6',\n",
    "        '{': 'G6', '}': 'G#6', '|': 'A6', 'A': 'A#6', 'S': 'B6',\n",
    "        \n",
    "        'D': 'C7', 'F': 'C#7', 'G': 'D7', 'H': 'D#7', 'J': 'E7', 'K': 'F7', 'L': 'F#7',\n",
    "        ':': 'G7', '\"': 'G#7', 'Z': 'A7', 'X': 'A#7', 'C': 'B7',\n",
    "        \n",
    "        'V': 'C8'\n",
    "    }\n",
    "    return notes.get(char, char)"
   ]
  },
  {
   "cell_type": "code",
   "execution_count": 37,
   "metadata": {},
   "outputs": [],
   "source": [
    "def reverseMap(note):\n",
    "    \n",
    "    reverseNoteMapping = {\n",
    "        0: 'C2', 1: 'C#2', 2: 'D2', 3: 'D#2', 4: 'E2', 5: 'F2', 6: 'F#2',\n",
    "        7: 'G2', 8: 'G#2', 9: 'A2', 10: 'A#2', 11: 'B2', 12: 'C3', 13: 'C#3',\n",
    "        14: 'D3', 15: 'D#3', 16: 'E3', 17: 'F3', 18: 'F#3', 19: 'G3', 20: 'G#3',\n",
    "        21: 'A3', 22: 'A#3', 23: 'B3', 24: 'C4', 25: 'C#4', 26: 'D4', 27: 'D#4',\n",
    "        28: 'E4', 29: 'F4', 30: 'F#4', 31: 'G4', 32: 'G#4', 33: 'A4', 34: 'A#4',\n",
    "        35: 'B4', 36: 'C5', 37: 'C#5', 38: 'D5', 39: 'D#5', 40: 'E5', 41: 'F5',\n",
    "        42: 'F#5', 43: 'G5', 44: 'G#5', 45: 'A5', 46: 'A#5', 47: 'B5', 48: 'C6',\n",
    "        49: 'C#6', 50: 'D6', 51: 'D#6', 52: 'E6', 53: 'F6', 54: 'F#6', 55: 'G6',\n",
    "        56: 'G#6', 57: 'A6', 58: 'A#6', 59: 'B6', 60: 'C7', 61: 'C#7', 62: 'D7',\n",
    "        63: 'D#7', 64: 'E7', 65: 'F7', 66: 'F#7', 67: 'G7', 68: 'G#7', 69: 'A7',\n",
    "        70: 'A#7', 71: 'B7', 72: 'C8', 73: 'C#8', 74: 'D8', 75: 'D#8', 76: 'E8',\n",
    "        77: 'F8', 78: 'F#8', 79: 'G8', 80: 'G#8', 81: 'A8', 82: 'A#8', 83: 'B8',\n",
    "        84: 'B-1', 85: 'A0', 86: 'A#0', 87: 'B0', 88: 'C1', 89: 'C#1', 90: 'D1',\n",
    "        91: 'D#1', 92: 'E1', 93: 'E-1', 94: 'F1', 95: 'F#1', 96: 'G1', 97: 'G#1',\n",
    "        98: 'A1', 99: 'B-0', 100: 'B1',\n",
    "    }\n",
    "    \n",
    "    return reverseNoteMapping.get(note, note)"
   ]
  },
  {
   "cell_type": "code",
   "execution_count": 60,
   "metadata": {},
   "outputs": [],
   "source": [
    "#sample output array, change to actual output produced by model.\n",
    "outputArray = [36, 38, 40, 41, 43, 45, 47, 48]"
   ]
  },
  {
   "cell_type": "code",
   "execution_count": 61,
   "metadata": {},
   "outputs": [],
   "source": [
    "# convert output string chars back to music notation\n",
    "notes = []\n",
    "for item in outputArray:\n",
    "    notes.append(reverseMap(item))\n",
    "\n",
    "# create MIDI file\n",
    "noteStream = stream.Stream()\n",
    "\n",
    "for n in notes:\n",
    "    noteObj = note.Note(n)\n",
    "    noteStream.append(noteObj)\n",
    "\n",
    "noteStream.append(tempo.MetronomeMark(number=120))\n",
    "midiFile = noteStream.write('midi', fp='test.mid')"
   ]
  },
  {
   "cell_type": "code",
   "execution_count": 62,
   "metadata": {},
   "outputs": [
    {
     "data": {
      "image/png": "[encoded data removed]",
      "text/plain": [
       "<IPython.core.display.Image object>"
      ]
     },
     "metadata": {
      "image/png": {
       "height": 56,
       "width": 674
      }
     },
     "output_type": "display_data"
    }
   ],
   "source": [
    "# Load MIDI file using Music21\n",
    "midiStream = converter.parse('test.mid')\n",
    "\n",
    "# show musical notation\n",
    "midiStream.show()"
   ]
  },
  {
   "cell_type": "code",
   "execution_count": 59,
   "metadata": {},
   "outputs": [
    {
     "data": {
      "text/html": [
       "\n",
       "        <div id=\"midiPlayerDiv10147619\"></div>\n",
       "        <link rel=\"stylesheet\" href=\"https://cuthbertLab.github.io/music21j/css/m21.css\">\n",
       "        \n",
       "        <script\n",
       "        src=\"https://cdnjs.cloudflare.com/ajax/libs/require.js/2.3.6/require.min.js\"\n",
       "        ></script>\n",
       "    \n",
       "        <script>\n",
       "        function midiPlayerDiv10147619_play() {\n",
       "            const rq = require.config({\n",
       "                paths: {\n",
       "                    'music21': 'https://cuthbertLab.github.io/music21j/releases/music21.debug',\n",
       "                }\n",
       "            });\n",
       "            rq(['music21'], function(music21) {\n",
       "                mp = new music21.miditools.MidiPlayer();\n",
       "                mp.addPlayer(\"#midiPlayerDiv10147619\");\n",
       "                mp.base64Load(\"data:audio/midi;base64,TVRoZAAAAAYAAQACJ2BNVHJrAAAAFgD/WAQEAhgIhPYA/1EDB6EgzmD/LwBNVHJrAAAAWQD/AwAA4ABAAMAAzmCQSFrOYIBIAACQSlrOYIBKAACQTFrOYIBMAACQTVrOYIBNAACQT1rOYIBPAACQUVrOYIBRAACQU1rOYIBTAACQVFrOYIBUAM5g/y8A\");\n",
       "            });\n",
       "        }\n",
       "        if (typeof require === 'undefined') {\n",
       "            setTimeout(midiPlayerDiv10147619_play, 2000);\n",
       "        } else {\n",
       "            midiPlayerDiv10147619_play();\n",
       "        }\n",
       "        </script>"
      ],
      "text/plain": [
       "<IPython.core.display.HTML object>"
      ]
     },
     "metadata": {},
     "output_type": "display_data"
    }
   ],
   "source": [
    "# produce playable audio\n",
    "midiStream.show(\"midi\")"
   ]
  },
  {
   "cell_type": "code",
   "execution_count": null,
   "metadata": {},
   "outputs": [],
   "source": []
  }
 ],
 "metadata": {
  "kernelspec": {
   "display_name": "Python 3 (ipykernel)",
   "language": "python",
   "name": "python3"
  },
  "language_info": {
   "codemirror_mode": {
    "name": "ipython",
    "version": 3
   },
   "file_extension": ".py",
   "mimetype": "text/x-python",
   "name": "python",
   "nbconvert_exporter": "python",
   "pygments_lexer": "ipython3",
   "version": "3.11.4"
  },
  "toc": {
   "base_numbering": 1,
   "nav_menu": {},
   "number_sections": false,
   "sideBar": true,
   "skip_h1_title": false,
   "title_cell": "Table of Contents",
   "title_sidebar": "Contents",
   "toc_cell": false,
   "toc_position": {},
   "toc_section_display": true,
   "toc_window_display": true
  },
  "varInspector": {
   "cols": {
    "lenName": 16,
    "lenType": 16,
    "lenVar": 40
   },
   "kernels_config": {
    "python": {
     "delete_cmd_postfix": "",
     "delete_cmd_prefix": "del ",
     "library": "var_list.py",
     "varRefreshCmd": "print(var_dic_list())"
    },
    "r": {
     "delete_cmd_postfix": ") ",
     "delete_cmd_prefix": "rm(",
     "library": "var_list.r",
     "varRefreshCmd": "cat(var_dic_list()) "
    }
   },
   "types_to_exclude": [
    "module",
    "function",
    "builtin_function_or_method",
    "instance",
    "_Feature"
   ],
   "window_display": false
  }
 },
 "nbformat": 4,
 "nbformat_minor": 2
}
